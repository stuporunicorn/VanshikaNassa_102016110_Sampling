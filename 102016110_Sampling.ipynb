{
  "nbformat": 4,
  "nbformat_minor": 0,
  "metadata": {
    "colab": {
      "provenance": []
    },
    "kernelspec": {
      "name": "python3",
      "display_name": "Python 3"
    },
    "language_info": {
      "name": "python"
    }
  },
  "cells": [
    {
      "cell_type": "code",
      "execution_count": null,
      "metadata": {
        "id": "4pWbPMpM57JH"
      },
      "outputs": [],
      "source": [
        "import numpy as np\n",
        "import pandas as pd\n",
        "from sklearn.model_selection import train_test_split\n",
        "from sklearn.linear_model import LogisticRegression\n",
        "from sklearn.metrics import accuracy_score\n",
        "from sklearn import preprocessing\n",
        "from sklearn.metrics import confusion_matrix\n",
        "from sklearn import svm\n",
        "from sklearn import metrics\n",
        "import seaborn\n",
        "import matplotlib.pyplot as plt"
      ]
    },
    {
      "cell_type": "code",
      "source": [
        "credit_card_data = pd.read_csv('/content/Creditcard_data.csv')"
      ],
      "metadata": {
        "id": "Evin1GLU6Oac"
      },
      "execution_count": null,
      "outputs": []
    },
    {
      "cell_type": "code",
      "source": [
        "credit_card_data.head()"
      ],
      "metadata": {
        "colab": {
          "base_uri": "https://localhost:8080/",
          "height": 299
        },
        "id": "6V1-ZCAw6UJ3",
        "outputId": "75e4a609-935e-4b1a-e7f9-13cb74af9e46"
      },
      "execution_count": null,
      "outputs": [
        {
          "output_type": "execute_result",
          "data": {
            "text/plain": [
              "   Time        V1        V2        V3        V4        V5        V6        V7  \\\n",
              "0     0 -1.359807 -0.072781  2.536347  1.378155 -0.338321  0.462388  0.239599   \n",
              "1     0  1.191857  0.266151  0.166480  0.448154  0.060018 -0.082361 -0.078803   \n",
              "2     1 -1.358354 -1.340163  1.773209  0.379780 -0.503198  1.800499  0.791461   \n",
              "3     1 -0.966272 -0.185226  1.792993 -0.863291 -0.010309  1.247203  0.237609   \n",
              "4     2 -1.158233  0.877737  1.548718  0.403034 -0.407193  0.095921  0.592941   \n",
              "\n",
              "         V8        V9  ...       V21       V22       V23       V24       V25  \\\n",
              "0  0.098698  0.363787  ... -0.018307  0.277838 -0.110474  0.066928  0.128539   \n",
              "1  0.085102 -0.255425  ... -0.225775 -0.638672  0.101288 -0.339846  0.167170   \n",
              "2  0.247676 -1.514654  ...  0.247998  0.771679  0.909412 -0.689281 -0.327642   \n",
              "3  0.377436 -1.387024  ... -0.108300  0.005274 -0.190321 -1.175575  0.647376   \n",
              "4 -0.270533  0.817739  ... -0.009431  0.798278 -0.137458  0.141267 -0.206010   \n",
              "\n",
              "        V26       V27       V28  Amount  Class  \n",
              "0 -0.189115  0.133558 -0.021053  149.62      0  \n",
              "1  0.125895 -0.008983  0.014724    2.69      1  \n",
              "2 -0.139097 -0.055353 -0.059752  378.66      0  \n",
              "3 -0.221929  0.062723  0.061458  123.50      0  \n",
              "4  0.502292  0.219422  0.215153   69.99      0  \n",
              "\n",
              "[5 rows x 31 columns]"
            ],
            "text/html": [
              "\n",
              "  <div id=\"df-8b45c353-f419-4b89-800b-dc46d8df926f\">\n",
              "    <div class=\"colab-df-container\">\n",
              "      <div>\n",
              "<style scoped>\n",
              "    .dataframe tbody tr th:only-of-type {\n",
              "        vertical-align: middle;\n",
              "    }\n",
              "\n",
              "    .dataframe tbody tr th {\n",
              "        vertical-align: top;\n",
              "    }\n",
              "\n",
              "    .dataframe thead th {\n",
              "        text-align: right;\n",
              "    }\n",
              "</style>\n",
              "<table border=\"1\" class=\"dataframe\">\n",
              "  <thead>\n",
              "    <tr style=\"text-align: right;\">\n",
              "      <th></th>\n",
              "      <th>Time</th>\n",
              "      <th>V1</th>\n",
              "      <th>V2</th>\n",
              "      <th>V3</th>\n",
              "      <th>V4</th>\n",
              "      <th>V5</th>\n",
              "      <th>V6</th>\n",
              "      <th>V7</th>\n",
              "      <th>V8</th>\n",
              "      <th>V9</th>\n",
              "      <th>...</th>\n",
              "      <th>V21</th>\n",
              "      <th>V22</th>\n",
              "      <th>V23</th>\n",
              "      <th>V24</th>\n",
              "      <th>V25</th>\n",
              "      <th>V26</th>\n",
              "      <th>V27</th>\n",
              "      <th>V28</th>\n",
              "      <th>Amount</th>\n",
              "      <th>Class</th>\n",
              "    </tr>\n",
              "  </thead>\n",
              "  <tbody>\n",
              "    <tr>\n",
              "      <th>0</th>\n",
              "      <td>0</td>\n",
              "      <td>-1.359807</td>\n",
              "      <td>-0.072781</td>\n",
              "      <td>2.536347</td>\n",
              "      <td>1.378155</td>\n",
              "      <td>-0.338321</td>\n",
              "      <td>0.462388</td>\n",
              "      <td>0.239599</td>\n",
              "      <td>0.098698</td>\n",
              "      <td>0.363787</td>\n",
              "      <td>...</td>\n",
              "      <td>-0.018307</td>\n",
              "      <td>0.277838</td>\n",
              "      <td>-0.110474</td>\n",
              "      <td>0.066928</td>\n",
              "      <td>0.128539</td>\n",
              "      <td>-0.189115</td>\n",
              "      <td>0.133558</td>\n",
              "      <td>-0.021053</td>\n",
              "      <td>149.62</td>\n",
              "      <td>0</td>\n",
              "    </tr>\n",
              "    <tr>\n",
              "      <th>1</th>\n",
              "      <td>0</td>\n",
              "      <td>1.191857</td>\n",
              "      <td>0.266151</td>\n",
              "      <td>0.166480</td>\n",
              "      <td>0.448154</td>\n",
              "      <td>0.060018</td>\n",
              "      <td>-0.082361</td>\n",
              "      <td>-0.078803</td>\n",
              "      <td>0.085102</td>\n",
              "      <td>-0.255425</td>\n",
              "      <td>...</td>\n",
              "      <td>-0.225775</td>\n",
              "      <td>-0.638672</td>\n",
              "      <td>0.101288</td>\n",
              "      <td>-0.339846</td>\n",
              "      <td>0.167170</td>\n",
              "      <td>0.125895</td>\n",
              "      <td>-0.008983</td>\n",
              "      <td>0.014724</td>\n",
              "      <td>2.69</td>\n",
              "      <td>1</td>\n",
              "    </tr>\n",
              "    <tr>\n",
              "      <th>2</th>\n",
              "      <td>1</td>\n",
              "      <td>-1.358354</td>\n",
              "      <td>-1.340163</td>\n",
              "      <td>1.773209</td>\n",
              "      <td>0.379780</td>\n",
              "      <td>-0.503198</td>\n",
              "      <td>1.800499</td>\n",
              "      <td>0.791461</td>\n",
              "      <td>0.247676</td>\n",
              "      <td>-1.514654</td>\n",
              "      <td>...</td>\n",
              "      <td>0.247998</td>\n",
              "      <td>0.771679</td>\n",
              "      <td>0.909412</td>\n",
              "      <td>-0.689281</td>\n",
              "      <td>-0.327642</td>\n",
              "      <td>-0.139097</td>\n",
              "      <td>-0.055353</td>\n",
              "      <td>-0.059752</td>\n",
              "      <td>378.66</td>\n",
              "      <td>0</td>\n",
              "    </tr>\n",
              "    <tr>\n",
              "      <th>3</th>\n",
              "      <td>1</td>\n",
              "      <td>-0.966272</td>\n",
              "      <td>-0.185226</td>\n",
              "      <td>1.792993</td>\n",
              "      <td>-0.863291</td>\n",
              "      <td>-0.010309</td>\n",
              "      <td>1.247203</td>\n",
              "      <td>0.237609</td>\n",
              "      <td>0.377436</td>\n",
              "      <td>-1.387024</td>\n",
              "      <td>...</td>\n",
              "      <td>-0.108300</td>\n",
              "      <td>0.005274</td>\n",
              "      <td>-0.190321</td>\n",
              "      <td>-1.175575</td>\n",
              "      <td>0.647376</td>\n",
              "      <td>-0.221929</td>\n",
              "      <td>0.062723</td>\n",
              "      <td>0.061458</td>\n",
              "      <td>123.50</td>\n",
              "      <td>0</td>\n",
              "    </tr>\n",
              "    <tr>\n",
              "      <th>4</th>\n",
              "      <td>2</td>\n",
              "      <td>-1.158233</td>\n",
              "      <td>0.877737</td>\n",
              "      <td>1.548718</td>\n",
              "      <td>0.403034</td>\n",
              "      <td>-0.407193</td>\n",
              "      <td>0.095921</td>\n",
              "      <td>0.592941</td>\n",
              "      <td>-0.270533</td>\n",
              "      <td>0.817739</td>\n",
              "      <td>...</td>\n",
              "      <td>-0.009431</td>\n",
              "      <td>0.798278</td>\n",
              "      <td>-0.137458</td>\n",
              "      <td>0.141267</td>\n",
              "      <td>-0.206010</td>\n",
              "      <td>0.502292</td>\n",
              "      <td>0.219422</td>\n",
              "      <td>0.215153</td>\n",
              "      <td>69.99</td>\n",
              "      <td>0</td>\n",
              "    </tr>\n",
              "  </tbody>\n",
              "</table>\n",
              "<p>5 rows × 31 columns</p>\n",
              "</div>\n",
              "      <button class=\"colab-df-convert\" onclick=\"convertToInteractive('df-8b45c353-f419-4b89-800b-dc46d8df926f')\"\n",
              "              title=\"Convert this dataframe to an interactive table.\"\n",
              "              style=\"display:none;\">\n",
              "        \n",
              "  <svg xmlns=\"http://www.w3.org/2000/svg\" height=\"24px\"viewBox=\"0 0 24 24\"\n",
              "       width=\"24px\">\n",
              "    <path d=\"M0 0h24v24H0V0z\" fill=\"none\"/>\n",
              "    <path d=\"M18.56 5.44l.94 2.06.94-2.06 2.06-.94-2.06-.94-.94-2.06-.94 2.06-2.06.94zm-11 1L8.5 8.5l.94-2.06 2.06-.94-2.06-.94L8.5 2.5l-.94 2.06-2.06.94zm10 10l.94 2.06.94-2.06 2.06-.94-2.06-.94-.94-2.06-.94 2.06-2.06.94z\"/><path d=\"M17.41 7.96l-1.37-1.37c-.4-.4-.92-.59-1.43-.59-.52 0-1.04.2-1.43.59L10.3 9.45l-7.72 7.72c-.78.78-.78 2.05 0 2.83L4 21.41c.39.39.9.59 1.41.59.51 0 1.02-.2 1.41-.59l7.78-7.78 2.81-2.81c.8-.78.8-2.07 0-2.86zM5.41 20L4 18.59l7.72-7.72 1.47 1.35L5.41 20z\"/>\n",
              "  </svg>\n",
              "      </button>\n",
              "      \n",
              "  <style>\n",
              "    .colab-df-container {\n",
              "      display:flex;\n",
              "      flex-wrap:wrap;\n",
              "      gap: 12px;\n",
              "    }\n",
              "\n",
              "    .colab-df-convert {\n",
              "      background-color: #E8F0FE;\n",
              "      border: none;\n",
              "      border-radius: 50%;\n",
              "      cursor: pointer;\n",
              "      display: none;\n",
              "      fill: #1967D2;\n",
              "      height: 32px;\n",
              "      padding: 0 0 0 0;\n",
              "      width: 32px;\n",
              "    }\n",
              "\n",
              "    .colab-df-convert:hover {\n",
              "      background-color: #E2EBFA;\n",
              "      box-shadow: 0px 1px 2px rgba(60, 64, 67, 0.3), 0px 1px 3px 1px rgba(60, 64, 67, 0.15);\n",
              "      fill: #174EA6;\n",
              "    }\n",
              "\n",
              "    [theme=dark] .colab-df-convert {\n",
              "      background-color: #3B4455;\n",
              "      fill: #D2E3FC;\n",
              "    }\n",
              "\n",
              "    [theme=dark] .colab-df-convert:hover {\n",
              "      background-color: #434B5C;\n",
              "      box-shadow: 0px 1px 3px 1px rgba(0, 0, 0, 0.15);\n",
              "      filter: drop-shadow(0px 1px 2px rgba(0, 0, 0, 0.3));\n",
              "      fill: #FFFFFF;\n",
              "    }\n",
              "  </style>\n",
              "\n",
              "      <script>\n",
              "        const buttonEl =\n",
              "          document.querySelector('#df-8b45c353-f419-4b89-800b-dc46d8df926f button.colab-df-convert');\n",
              "        buttonEl.style.display =\n",
              "          google.colab.kernel.accessAllowed ? 'block' : 'none';\n",
              "\n",
              "        async function convertToInteractive(key) {\n",
              "          const element = document.querySelector('#df-8b45c353-f419-4b89-800b-dc46d8df926f');\n",
              "          const dataTable =\n",
              "            await google.colab.kernel.invokeFunction('convertToInteractive',\n",
              "                                                     [key], {});\n",
              "          if (!dataTable) return;\n",
              "\n",
              "          const docLinkHtml = 'Like what you see? Visit the ' +\n",
              "            '<a target=\"_blank\" href=https://colab.research.google.com/notebooks/data_table.ipynb>data table notebook</a>'\n",
              "            + ' to learn more about interactive tables.';\n",
              "          element.innerHTML = '';\n",
              "          dataTable['output_type'] = 'display_data';\n",
              "          await google.colab.output.renderOutput(dataTable, element);\n",
              "          const docLink = document.createElement('div');\n",
              "          docLink.innerHTML = docLinkHtml;\n",
              "          element.appendChild(docLink);\n",
              "        }\n",
              "      </script>\n",
              "    </div>\n",
              "  </div>\n",
              "  "
            ]
          },
          "metadata": {},
          "execution_count": 406
        }
      ]
    },
    {
      "cell_type": "code",
      "source": [
        "credit_card_data.tail()"
      ],
      "metadata": {
        "colab": {
          "base_uri": "https://localhost:8080/",
          "height": 299
        },
        "id": "2d2ltnMg6XKZ",
        "outputId": "8e3e43f1-2101-405d-b891-79d11600556c"
      },
      "execution_count": null,
      "outputs": [
        {
          "output_type": "execute_result",
          "data": {
            "text/plain": [
              "     Time        V1        V2        V3        V4        V5        V6  \\\n",
              "767   575 -0.572263  0.731748  1.541254  0.150506  1.108974  0.372152   \n",
              "768   579 -1.296845 -0.511605  2.404726 -0.310762 -0.319551 -0.542842   \n",
              "769   579  1.214170  0.210481  0.484651  0.479768 -0.261955 -0.527039   \n",
              "770   580  1.267030 -0.071114  0.037680  0.512683  0.242392  0.705212   \n",
              "771   581  1.153758  0.132273  0.382969  1.405063 -0.224287 -0.197295   \n",
              "\n",
              "           V7        V8        V9  ...       V21       V22       V23  \\\n",
              "767  1.084879 -0.146329 -0.274447  ... -0.143508 -0.107582 -0.418263   \n",
              "768 -0.173310  0.260423 -1.202688  ... -0.071270 -0.161175  0.088496   \n",
              "769  0.021782 -0.106888 -0.037631  ... -0.224292 -0.594609  0.159877   \n",
              "770 -0.226582  0.109483  0.657565  ... -0.164468 -0.177225 -0.222918   \n",
              "771  0.020653  0.029260  0.412254  ... -0.107809 -0.125231 -0.057041   \n",
              "\n",
              "          V24       V25       V26       V27       V28  Amount  Class  \n",
              "767 -0.731029  0.877525 -0.364150 -0.177509 -0.256545   26.72      0  \n",
              "768  0.285390  0.281069 -0.370130  0.043410  0.092318   80.00      0  \n",
              "769  0.091873  0.140964  0.227406 -0.017389  0.016030    5.98      0  \n",
              "770 -1.245505  0.678360  0.525059  0.002920 -0.003333   12.36      0  \n",
              "771  0.073082  0.633977 -0.310685  0.033590  0.015250   13.79      0  \n",
              "\n",
              "[5 rows x 31 columns]"
            ],
            "text/html": [
              "\n",
              "  <div id=\"df-97822e8a-abd7-4625-84a5-ec49f263c1ba\">\n",
              "    <div class=\"colab-df-container\">\n",
              "      <div>\n",
              "<style scoped>\n",
              "    .dataframe tbody tr th:only-of-type {\n",
              "        vertical-align: middle;\n",
              "    }\n",
              "\n",
              "    .dataframe tbody tr th {\n",
              "        vertical-align: top;\n",
              "    }\n",
              "\n",
              "    .dataframe thead th {\n",
              "        text-align: right;\n",
              "    }\n",
              "</style>\n",
              "<table border=\"1\" class=\"dataframe\">\n",
              "  <thead>\n",
              "    <tr style=\"text-align: right;\">\n",
              "      <th></th>\n",
              "      <th>Time</th>\n",
              "      <th>V1</th>\n",
              "      <th>V2</th>\n",
              "      <th>V3</th>\n",
              "      <th>V4</th>\n",
              "      <th>V5</th>\n",
              "      <th>V6</th>\n",
              "      <th>V7</th>\n",
              "      <th>V8</th>\n",
              "      <th>V9</th>\n",
              "      <th>...</th>\n",
              "      <th>V21</th>\n",
              "      <th>V22</th>\n",
              "      <th>V23</th>\n",
              "      <th>V24</th>\n",
              "      <th>V25</th>\n",
              "      <th>V26</th>\n",
              "      <th>V27</th>\n",
              "      <th>V28</th>\n",
              "      <th>Amount</th>\n",
              "      <th>Class</th>\n",
              "    </tr>\n",
              "  </thead>\n",
              "  <tbody>\n",
              "    <tr>\n",
              "      <th>767</th>\n",
              "      <td>575</td>\n",
              "      <td>-0.572263</td>\n",
              "      <td>0.731748</td>\n",
              "      <td>1.541254</td>\n",
              "      <td>0.150506</td>\n",
              "      <td>1.108974</td>\n",
              "      <td>0.372152</td>\n",
              "      <td>1.084879</td>\n",
              "      <td>-0.146329</td>\n",
              "      <td>-0.274447</td>\n",
              "      <td>...</td>\n",
              "      <td>-0.143508</td>\n",
              "      <td>-0.107582</td>\n",
              "      <td>-0.418263</td>\n",
              "      <td>-0.731029</td>\n",
              "      <td>0.877525</td>\n",
              "      <td>-0.364150</td>\n",
              "      <td>-0.177509</td>\n",
              "      <td>-0.256545</td>\n",
              "      <td>26.72</td>\n",
              "      <td>0</td>\n",
              "    </tr>\n",
              "    <tr>\n",
              "      <th>768</th>\n",
              "      <td>579</td>\n",
              "      <td>-1.296845</td>\n",
              "      <td>-0.511605</td>\n",
              "      <td>2.404726</td>\n",
              "      <td>-0.310762</td>\n",
              "      <td>-0.319551</td>\n",
              "      <td>-0.542842</td>\n",
              "      <td>-0.173310</td>\n",
              "      <td>0.260423</td>\n",
              "      <td>-1.202688</td>\n",
              "      <td>...</td>\n",
              "      <td>-0.071270</td>\n",
              "      <td>-0.161175</td>\n",
              "      <td>0.088496</td>\n",
              "      <td>0.285390</td>\n",
              "      <td>0.281069</td>\n",
              "      <td>-0.370130</td>\n",
              "      <td>0.043410</td>\n",
              "      <td>0.092318</td>\n",
              "      <td>80.00</td>\n",
              "      <td>0</td>\n",
              "    </tr>\n",
              "    <tr>\n",
              "      <th>769</th>\n",
              "      <td>579</td>\n",
              "      <td>1.214170</td>\n",
              "      <td>0.210481</td>\n",
              "      <td>0.484651</td>\n",
              "      <td>0.479768</td>\n",
              "      <td>-0.261955</td>\n",
              "      <td>-0.527039</td>\n",
              "      <td>0.021782</td>\n",
              "      <td>-0.106888</td>\n",
              "      <td>-0.037631</td>\n",
              "      <td>...</td>\n",
              "      <td>-0.224292</td>\n",
              "      <td>-0.594609</td>\n",
              "      <td>0.159877</td>\n",
              "      <td>0.091873</td>\n",
              "      <td>0.140964</td>\n",
              "      <td>0.227406</td>\n",
              "      <td>-0.017389</td>\n",
              "      <td>0.016030</td>\n",
              "      <td>5.98</td>\n",
              "      <td>0</td>\n",
              "    </tr>\n",
              "    <tr>\n",
              "      <th>770</th>\n",
              "      <td>580</td>\n",
              "      <td>1.267030</td>\n",
              "      <td>-0.071114</td>\n",
              "      <td>0.037680</td>\n",
              "      <td>0.512683</td>\n",
              "      <td>0.242392</td>\n",
              "      <td>0.705212</td>\n",
              "      <td>-0.226582</td>\n",
              "      <td>0.109483</td>\n",
              "      <td>0.657565</td>\n",
              "      <td>...</td>\n",
              "      <td>-0.164468</td>\n",
              "      <td>-0.177225</td>\n",
              "      <td>-0.222918</td>\n",
              "      <td>-1.245505</td>\n",
              "      <td>0.678360</td>\n",
              "      <td>0.525059</td>\n",
              "      <td>0.002920</td>\n",
              "      <td>-0.003333</td>\n",
              "      <td>12.36</td>\n",
              "      <td>0</td>\n",
              "    </tr>\n",
              "    <tr>\n",
              "      <th>771</th>\n",
              "      <td>581</td>\n",
              "      <td>1.153758</td>\n",
              "      <td>0.132273</td>\n",
              "      <td>0.382969</td>\n",
              "      <td>1.405063</td>\n",
              "      <td>-0.224287</td>\n",
              "      <td>-0.197295</td>\n",
              "      <td>0.020653</td>\n",
              "      <td>0.029260</td>\n",
              "      <td>0.412254</td>\n",
              "      <td>...</td>\n",
              "      <td>-0.107809</td>\n",
              "      <td>-0.125231</td>\n",
              "      <td>-0.057041</td>\n",
              "      <td>0.073082</td>\n",
              "      <td>0.633977</td>\n",
              "      <td>-0.310685</td>\n",
              "      <td>0.033590</td>\n",
              "      <td>0.015250</td>\n",
              "      <td>13.79</td>\n",
              "      <td>0</td>\n",
              "    </tr>\n",
              "  </tbody>\n",
              "</table>\n",
              "<p>5 rows × 31 columns</p>\n",
              "</div>\n",
              "      <button class=\"colab-df-convert\" onclick=\"convertToInteractive('df-97822e8a-abd7-4625-84a5-ec49f263c1ba')\"\n",
              "              title=\"Convert this dataframe to an interactive table.\"\n",
              "              style=\"display:none;\">\n",
              "        \n",
              "  <svg xmlns=\"http://www.w3.org/2000/svg\" height=\"24px\"viewBox=\"0 0 24 24\"\n",
              "       width=\"24px\">\n",
              "    <path d=\"M0 0h24v24H0V0z\" fill=\"none\"/>\n",
              "    <path d=\"M18.56 5.44l.94 2.06.94-2.06 2.06-.94-2.06-.94-.94-2.06-.94 2.06-2.06.94zm-11 1L8.5 8.5l.94-2.06 2.06-.94-2.06-.94L8.5 2.5l-.94 2.06-2.06.94zm10 10l.94 2.06.94-2.06 2.06-.94-2.06-.94-.94-2.06-.94 2.06-2.06.94z\"/><path d=\"M17.41 7.96l-1.37-1.37c-.4-.4-.92-.59-1.43-.59-.52 0-1.04.2-1.43.59L10.3 9.45l-7.72 7.72c-.78.78-.78 2.05 0 2.83L4 21.41c.39.39.9.59 1.41.59.51 0 1.02-.2 1.41-.59l7.78-7.78 2.81-2.81c.8-.78.8-2.07 0-2.86zM5.41 20L4 18.59l7.72-7.72 1.47 1.35L5.41 20z\"/>\n",
              "  </svg>\n",
              "      </button>\n",
              "      \n",
              "  <style>\n",
              "    .colab-df-container {\n",
              "      display:flex;\n",
              "      flex-wrap:wrap;\n",
              "      gap: 12px;\n",
              "    }\n",
              "\n",
              "    .colab-df-convert {\n",
              "      background-color: #E8F0FE;\n",
              "      border: none;\n",
              "      border-radius: 50%;\n",
              "      cursor: pointer;\n",
              "      display: none;\n",
              "      fill: #1967D2;\n",
              "      height: 32px;\n",
              "      padding: 0 0 0 0;\n",
              "      width: 32px;\n",
              "    }\n",
              "\n",
              "    .colab-df-convert:hover {\n",
              "      background-color: #E2EBFA;\n",
              "      box-shadow: 0px 1px 2px rgba(60, 64, 67, 0.3), 0px 1px 3px 1px rgba(60, 64, 67, 0.15);\n",
              "      fill: #174EA6;\n",
              "    }\n",
              "\n",
              "    [theme=dark] .colab-df-convert {\n",
              "      background-color: #3B4455;\n",
              "      fill: #D2E3FC;\n",
              "    }\n",
              "\n",
              "    [theme=dark] .colab-df-convert:hover {\n",
              "      background-color: #434B5C;\n",
              "      box-shadow: 0px 1px 3px 1px rgba(0, 0, 0, 0.15);\n",
              "      filter: drop-shadow(0px 1px 2px rgba(0, 0, 0, 0.3));\n",
              "      fill: #FFFFFF;\n",
              "    }\n",
              "  </style>\n",
              "\n",
              "      <script>\n",
              "        const buttonEl =\n",
              "          document.querySelector('#df-97822e8a-abd7-4625-84a5-ec49f263c1ba button.colab-df-convert');\n",
              "        buttonEl.style.display =\n",
              "          google.colab.kernel.accessAllowed ? 'block' : 'none';\n",
              "\n",
              "        async function convertToInteractive(key) {\n",
              "          const element = document.querySelector('#df-97822e8a-abd7-4625-84a5-ec49f263c1ba');\n",
              "          const dataTable =\n",
              "            await google.colab.kernel.invokeFunction('convertToInteractive',\n",
              "                                                     [key], {});\n",
              "          if (!dataTable) return;\n",
              "\n",
              "          const docLinkHtml = 'Like what you see? Visit the ' +\n",
              "            '<a target=\"_blank\" href=https://colab.research.google.com/notebooks/data_table.ipynb>data table notebook</a>'\n",
              "            + ' to learn more about interactive tables.';\n",
              "          element.innerHTML = '';\n",
              "          dataTable['output_type'] = 'display_data';\n",
              "          await google.colab.output.renderOutput(dataTable, element);\n",
              "          const docLink = document.createElement('div');\n",
              "          docLink.innerHTML = docLinkHtml;\n",
              "          element.appendChild(docLink);\n",
              "        }\n",
              "      </script>\n",
              "    </div>\n",
              "  </div>\n",
              "  "
            ]
          },
          "metadata": {},
          "execution_count": 407
        }
      ]
    },
    {
      "cell_type": "code",
      "source": [
        "credit_card_data.info()"
      ],
      "metadata": {
        "colab": {
          "base_uri": "https://localhost:8080/"
        },
        "id": "KBIxZrnt6ar8",
        "outputId": "5c332b8c-9146-41e5-d815-25e484ab4122"
      },
      "execution_count": null,
      "outputs": [
        {
          "output_type": "stream",
          "name": "stdout",
          "text": [
            "<class 'pandas.core.frame.DataFrame'>\n",
            "RangeIndex: 772 entries, 0 to 771\n",
            "Data columns (total 31 columns):\n",
            " #   Column  Non-Null Count  Dtype  \n",
            "---  ------  --------------  -----  \n",
            " 0   Time    772 non-null    int64  \n",
            " 1   V1      772 non-null    float64\n",
            " 2   V2      772 non-null    float64\n",
            " 3   V3      772 non-null    float64\n",
            " 4   V4      772 non-null    float64\n",
            " 5   V5      772 non-null    float64\n",
            " 6   V6      772 non-null    float64\n",
            " 7   V7      772 non-null    float64\n",
            " 8   V8      772 non-null    float64\n",
            " 9   V9      772 non-null    float64\n",
            " 10  V10     772 non-null    float64\n",
            " 11  V11     772 non-null    float64\n",
            " 12  V12     772 non-null    float64\n",
            " 13  V13     772 non-null    float64\n",
            " 14  V14     772 non-null    float64\n",
            " 15  V15     772 non-null    float64\n",
            " 16  V16     772 non-null    float64\n",
            " 17  V17     772 non-null    float64\n",
            " 18  V18     772 non-null    float64\n",
            " 19  V19     772 non-null    float64\n",
            " 20  V20     772 non-null    float64\n",
            " 21  V21     772 non-null    float64\n",
            " 22  V22     772 non-null    float64\n",
            " 23  V23     772 non-null    float64\n",
            " 24  V24     772 non-null    float64\n",
            " 25  V25     772 non-null    float64\n",
            " 26  V26     772 non-null    float64\n",
            " 27  V27     772 non-null    float64\n",
            " 28  V28     772 non-null    float64\n",
            " 29  Amount  772 non-null    float64\n",
            " 30  Class   772 non-null    int64  \n",
            "dtypes: float64(29), int64(2)\n",
            "memory usage: 187.1 KB\n"
          ]
        }
      ]
    },
    {
      "cell_type": "code",
      "source": [
        "credit_card_data.isnull().sum()"
      ],
      "metadata": {
        "colab": {
          "base_uri": "https://localhost:8080/"
        },
        "id": "7d_XxFSX6d7h",
        "outputId": "d01478a0-87c9-416a-813a-9fd31154040b"
      },
      "execution_count": null,
      "outputs": [
        {
          "output_type": "execute_result",
          "data": {
            "text/plain": [
              "Time      0\n",
              "V1        0\n",
              "V2        0\n",
              "V3        0\n",
              "V4        0\n",
              "V5        0\n",
              "V6        0\n",
              "V7        0\n",
              "V8        0\n",
              "V9        0\n",
              "V10       0\n",
              "V11       0\n",
              "V12       0\n",
              "V13       0\n",
              "V14       0\n",
              "V15       0\n",
              "V16       0\n",
              "V17       0\n",
              "V18       0\n",
              "V19       0\n",
              "V20       0\n",
              "V21       0\n",
              "V22       0\n",
              "V23       0\n",
              "V24       0\n",
              "V25       0\n",
              "V26       0\n",
              "V27       0\n",
              "V28       0\n",
              "Amount    0\n",
              "Class     0\n",
              "dtype: int64"
            ]
          },
          "metadata": {},
          "execution_count": 409
        }
      ]
    },
    {
      "cell_type": "code",
      "source": [
        "credit_card_data_copy=credit_card_data.copy()\n",
        "credit_card_data_copy.drop_duplicates(subset=None, inplace=True)"
      ],
      "metadata": {
        "id": "Lth-L3tE6iPV"
      },
      "execution_count": null,
      "outputs": []
    },
    {
      "cell_type": "code",
      "source": [
        "credit_card_data_copy.shape"
      ],
      "metadata": {
        "colab": {
          "base_uri": "https://localhost:8080/"
        },
        "id": "ui3H5nzV6niq",
        "outputId": "00cbd1c7-84b6-4426-f5fd-9dca920fa371"
      },
      "execution_count": null,
      "outputs": [
        {
          "output_type": "execute_result",
          "data": {
            "text/plain": [
              "(765, 31)"
            ]
          },
          "metadata": {},
          "execution_count": 411
        }
      ]
    },
    {
      "cell_type": "code",
      "source": [
        "credit_card_data.shape"
      ],
      "metadata": {
        "colab": {
          "base_uri": "https://localhost:8080/"
        },
        "id": "yYJmzKcd6rLD",
        "outputId": "55e24564-58da-4bc3-993b-4571a30b6c0e"
      },
      "execution_count": null,
      "outputs": [
        {
          "output_type": "execute_result",
          "data": {
            "text/plain": [
              "(772, 31)"
            ]
          },
          "metadata": {},
          "execution_count": 412
        }
      ]
    },
    {
      "cell_type": "code",
      "source": [
        "credit_card_data=credit_card_data_copy"
      ],
      "metadata": {
        "id": "wk41xnzr6uLd"
      },
      "execution_count": null,
      "outputs": []
    },
    {
      "cell_type": "code",
      "source": [
        "credit_card_data.shape"
      ],
      "metadata": {
        "colab": {
          "base_uri": "https://localhost:8080/"
        },
        "id": "QTWvQS2c61sr",
        "outputId": "cf26b8f1-0556-4604-fed7-c622a20b9907"
      },
      "execution_count": null,
      "outputs": [
        {
          "output_type": "execute_result",
          "data": {
            "text/plain": [
              "(765, 31)"
            ]
          },
          "metadata": {},
          "execution_count": 414
        }
      ]
    },
    {
      "cell_type": "code",
      "source": [
        "credit_card_data['Class'].value_counts()"
      ],
      "metadata": {
        "colab": {
          "base_uri": "https://localhost:8080/"
        },
        "id": "gw9dGW3Q6444",
        "outputId": "604a8ca2-128b-4ad3-8430-07d6acba2245"
      },
      "execution_count": null,
      "outputs": [
        {
          "output_type": "execute_result",
          "data": {
            "text/plain": [
              "0    756\n",
              "1      9\n",
              "Name: Class, dtype: int64"
            ]
          },
          "metadata": {},
          "execution_count": 415
        }
      ]
    },
    {
      "cell_type": "code",
      "source": [
        "legit_transactions = credit_card_data[credit_card_data.Class == 0]\n",
        "fraud_transactions = credit_card_data[credit_card_data.Class == 1]"
      ],
      "metadata": {
        "id": "7p0meaLw6-Ok"
      },
      "execution_count": null,
      "outputs": []
    },
    {
      "cell_type": "code",
      "source": [
        "print(legit_transactions.shape)\n",
        "print(fraud_transactions.shape)"
      ],
      "metadata": {
        "colab": {
          "base_uri": "https://localhost:8080/"
        },
        "id": "z4V3Cltv7DCS",
        "outputId": "605474e8-aabf-46fe-fa95-274e0c469cb1"
      },
      "execution_count": null,
      "outputs": [
        {
          "output_type": "stream",
          "name": "stdout",
          "text": [
            "(756, 31)\n",
            "(9, 31)\n"
          ]
        }
      ]
    },
    {
      "cell_type": "code",
      "source": [
        "import pandas as pd\n",
        "from imblearn.over_sampling import RandomOverSampler\n",
        "\n",
        "# Load credit card dataset\n",
        "df = pd.read_csv('/content/Creditcard_data.csv')\n",
        "\n",
        "# Define input features and target variable\n",
        "X = df.drop(columns=['Class'])\n",
        "y = df['Class']\n",
        "\n",
        "# Resample the data using RandomOverSampler\n",
        "ros = RandomOverSampler()\n",
        "X_resampled, y_resampled = ros.fit_resample(X, y)\n",
        "\n",
        "print(\"Class distribution before oversampling:\\n\", y.value_counts())\n",
        "print(\"\\nClass distribution after oversampling:\\n\", y_resampled.value_counts())\n",
        "\n",
        "# Create a new dataset with the resampled data\n",
        "new_df = pd.DataFrame(X_resampled, columns=X.columns)\n",
        "new_df['Class'] = y_resampled\n",
        "\n",
        "# Save the new dataset to a CSV file\n",
        "new_df.to_csv('resampled_credit_card_dataset.csv', index=False)\n",
        "r=pd.read_csv(\"/content/resampled_credit_card_dataset.csv\")\n"
      ],
      "metadata": {
        "colab": {
          "base_uri": "https://localhost:8080/"
        },
        "id": "cQDUG9j6bF9_",
        "outputId": "90bd3932-e5ea-4252-ee8e-61facfbf68bd"
      },
      "execution_count": null,
      "outputs": [
        {
          "output_type": "stream",
          "name": "stdout",
          "text": [
            "Class distribution before oversampling:\n",
            " 0    763\n",
            "1      9\n",
            "Name: Class, dtype: int64\n",
            "\n",
            "Class distribution after oversampling:\n",
            " 0    763\n",
            "1    763\n",
            "Name: Class, dtype: int64\n"
          ]
        }
      ]
    },
    {
      "cell_type": "code",
      "source": [
        "data=pd.read_csv('/content/resampled_credit_card_dataset.csv')"
      ],
      "metadata": {
        "id": "p72D1ckLb1eT"
      },
      "execution_count": null,
      "outputs": []
    },
    {
      "cell_type": "code",
      "source": [
        "from scipy import stats\n",
        "# Set your desired level of confidence and margin of error\n",
        "confidence_level = 0.95\n",
        "margin_of_error = 0.05\n",
        "\n",
        "# Calculate the sample size using the formula\n",
        "sample_size = np.ceil((stats.norm.ppf(1 - (1 - confidence_level)/2)**2 * 0.25 / margin_of_error**2))\n",
        "\n",
        "# Randomly select the required number of samples from the dataframe\n",
        "samples = data.sample(n=int(sample_size), random_state=42)\n",
        "\n",
        "# Print the sample size and the first few rows of the sample\n",
        "print(\"Sample size:\", sample_size)\n",
        "print(samples.head())\n",
        "print(samples['Class'].value_counts)\n",
        "\n",
        "sample1=pd.DataFrame(samples).to_csv(\"sample1.csv\")\n",
        "sample1=pd.read_csv('sample1.csv')\n",
        "\n",
        "\n"
      ],
      "metadata": {
        "colab": {
          "base_uri": "https://localhost:8080/"
        },
        "id": "QinxpHFacB1S",
        "outputId": "becfba4d-114c-4ca8-f7dd-a3ec0af9141b"
      },
      "execution_count": null,
      "outputs": [
        {
          "output_type": "stream",
          "name": "stdout",
          "text": [
            "Sample size: 385.0\n",
            "      Time        V1        V2        V3        V4        V5        V6  \\\n",
            "1439   574  1.257719  0.364739  0.306923  0.690638 -0.357792 -1.067481   \n",
            "76      49 -0.549626  0.418949  1.729833  0.203065 -0.187012  0.253878   \n",
            "1010   529 -2.000567 -2.495484  2.467149  1.140053  2.462010  0.594262   \n",
            "660    499  1.255439  0.307729  0.292700  0.699873 -0.428876 -1.088456   \n",
            "1132   118  1.254914  0.350287  0.302488  0.693114 -0.371470 -1.070256   \n",
            "\n",
            "            V7        V8        V9  ...       V21       V22       V23  \\\n",
            "1439  0.094272 -0.210300  0.014455  ... -0.286856 -0.820658  0.127663   \n",
            "76    0.500894  0.251256 -0.227985  ...  0.115062  0.418529 -0.065133   \n",
            "1010 -2.110183  0.788347  0.958809  ...  0.422452  1.195394  0.297836   \n",
            "660   0.043840 -0.167739  0.128854  ... -0.294795 -0.882126  0.136846   \n",
            "1132  0.086781 -0.202836  0.035154  ... -0.287592 -0.832682  0.128083   \n",
            "\n",
            "           V24       V25       V26       V27       V28  Amount  Class  \n",
            "1439  0.343128  0.221120  0.094391 -0.022189  0.030944    1.29      1  \n",
            "76    0.264981  0.003958  0.395969  0.027182  0.043506   59.99      0  \n",
            "1010 -0.857105 -0.219322  0.861019 -0.124622 -0.171060    1.50      1  \n",
            "660   0.327949  0.194459  0.096516 -0.027271  0.029491    1.98      0  \n",
            "1132  0.339427  0.215944  0.094704 -0.023354  0.030892    2.69      1  \n",
            "\n",
            "[5 rows x 31 columns]\n",
            "<bound method IndexOpsMixin.value_counts of 1439    1\n",
            "76      0\n",
            "1010    1\n",
            "660     0\n",
            "1132    1\n",
            "       ..\n",
            "756     0\n",
            "1074    1\n",
            "867     1\n",
            "485     0\n",
            "188     0\n",
            "Name: Class, Length: 385, dtype: int64>\n"
          ]
        }
      ]
    },
    {
      "cell_type": "code",
      "source": [
        "X = sample1.iloc[:,0:30]\n",
        "Y = sample1['Class']\n",
        "print(X)"
      ],
      "metadata": {
        "colab": {
          "base_uri": "https://localhost:8080/"
        },
        "id": "-j6u8peWBCcX",
        "outputId": "59707751-5ce1-48e0-fb6e-67033f6d3006"
      },
      "execution_count": null,
      "outputs": [
        {
          "output_type": "stream",
          "name": "stdout",
          "text": [
            "     Unnamed: 0  Time        V1        V2        V3        V4        V5  \\\n",
            "0          1439   574  1.257719  0.364739  0.306923  0.690638 -0.357792   \n",
            "1            76    49 -0.549626  0.418949  1.729833  0.203065 -0.187012   \n",
            "2          1010   529 -2.000567 -2.495484  2.467149  1.140053  2.462010   \n",
            "3           660   499  1.255439  0.307729  0.292700  0.699873 -0.428876   \n",
            "4          1132   118  1.254914  0.350287  0.302488  0.693114 -0.371470   \n",
            "..          ...   ...       ...       ...       ...       ...       ...   \n",
            "380         756   564 -0.203837  0.532747 -0.339857 -0.730934  2.728163   \n",
            "381        1074   472 -3.043541 -3.157307  1.088463  2.288644  1.359805   \n",
            "382         867   406 -2.312227  1.951992 -1.609851  3.997906 -0.522188   \n",
            "383         485   356  1.021392  0.155451 -0.312291  0.961407  0.548611   \n",
            "384         188   124  1.105253  0.541842  0.839421  2.570933 -0.279517   \n",
            "\n",
            "           V6        V7        V8  ...       V19       V20       V21  \\\n",
            "0   -1.067481  0.094272 -0.210300  ... -0.197052 -0.073779 -0.286856   \n",
            "1    0.253878  0.500894  0.251256  ...  0.194946  0.016970  0.115062   \n",
            "2    0.594262 -2.110183  0.788347  ... -0.624299  0.620899  0.422452   \n",
            "3   -1.088456  0.043840 -0.167739  ... -0.194241 -0.121156 -0.294795   \n",
            "4   -1.070256  0.086781 -0.202836  ... -0.196569 -0.079756 -0.287592   \n",
            "..        ...       ...       ...  ...       ...       ...       ...   \n",
            "380  3.535882  0.263680  0.919169  ... -0.292566 -0.089163 -0.082087   \n",
            "381 -1.064823  0.325574 -0.067794  ...  0.283345  2.102339  0.661696   \n",
            "382 -1.426545 -2.537387  1.391657  ...  0.416956  0.126911  0.517232   \n",
            "383  0.121816  0.525318 -0.053891  ...  0.002492  0.114202 -0.224762   \n",
            "384 -0.423062  0.088019  0.011622  ... -1.465500 -0.239883 -0.137434   \n",
            "\n",
            "          V22       V23       V24       V25       V26       V27       V28  \n",
            "0   -0.820658  0.127663  0.343128  0.221120  0.094391 -0.022189  0.030944  \n",
            "1    0.418529 -0.065133  0.264981  0.003958  0.395969  0.027182  0.043506  \n",
            "2    1.195394  0.297836 -0.857105 -0.219322  0.861019 -0.124622 -0.171060  \n",
            "3   -0.882126  0.136846  0.327949  0.194459  0.096516 -0.027271  0.029491  \n",
            "4   -0.832682  0.128083  0.339427  0.215944  0.094704 -0.023354  0.030892  \n",
            "..        ...       ...       ...       ...       ...       ...       ...  \n",
            "380 -0.271636 -0.157778  0.989458  0.228821 -0.545156  0.058120  0.035573  \n",
            "381  0.435477  1.375966 -0.293803  0.279798 -0.145362 -0.252773  0.035764  \n",
            "382 -0.035049 -0.465211  0.320198  0.044519  0.177840  0.261145 -0.143276  \n",
            "383 -0.850712 -0.077845 -0.679775  0.484478 -0.605930 -0.005454  0.019392  \n",
            "384 -0.460991  0.189397  0.556329  0.185786 -0.189030  0.000208  0.026167  \n",
            "\n",
            "[385 rows x 30 columns]\n"
          ]
        }
      ]
    },
    {
      "cell_type": "code",
      "source": [
        "print(Y)"
      ],
      "metadata": {
        "colab": {
          "base_uri": "https://localhost:8080/"
        },
        "id": "oxFXs8h8ERgh",
        "outputId": "73bbae13-2cff-46ca-be1d-dff353025b5c"
      },
      "execution_count": null,
      "outputs": [
        {
          "output_type": "stream",
          "name": "stdout",
          "text": [
            "0      1\n",
            "1      0\n",
            "2      1\n",
            "3      0\n",
            "4      1\n",
            "      ..\n",
            "380    0\n",
            "381    1\n",
            "382    1\n",
            "383    0\n",
            "384    0\n",
            "Name: Class, Length: 385, dtype: int64\n"
          ]
        }
      ]
    },
    {
      "cell_type": "code",
      "source": [
        "from sklearn.preprocessing import MinMaxScaler\n",
        "X_train, X_test, Y_train, Y_test = train_test_split(X, Y, test_size=0.4, stratify=Y, random_state=5)\n",
        "print(X.shape, X_train.shape, X_test.shape)\n",
        "scaler = MinMaxScaler()\n",
        "X_train = scaler.fit_transform(X_train)\n",
        "X_test = scaler.transform(X_test)"
      ],
      "metadata": {
        "id": "wK-HJwMJEbGi",
        "colab": {
          "base_uri": "https://localhost:8080/"
        },
        "outputId": "b6ec127b-6e6e-4c1e-8519-a7caa0d9d44f"
      },
      "execution_count": null,
      "outputs": [
        {
          "output_type": "stream",
          "name": "stdout",
          "text": [
            "(385, 30) (231, 30) (154, 30)\n"
          ]
        }
      ]
    },
    {
      "cell_type": "code",
      "source": [
        "print(X.shape, X_train.shape, X_test.shape)"
      ],
      "metadata": {
        "colab": {
          "base_uri": "https://localhost:8080/"
        },
        "id": "Uxz6SkTdEc9k",
        "outputId": "a5a88cfa-2c1d-4b01-aca2-cece2b9453a7"
      },
      "execution_count": null,
      "outputs": [
        {
          "output_type": "stream",
          "name": "stdout",
          "text": [
            "(385, 30) (231, 30) (154, 30)\n"
          ]
        }
      ]
    },
    {
      "cell_type": "code",
      "source": [
        "from sklearn.tree import DecisionTreeClassifier\n",
        "dtree_model = DecisionTreeClassifier(max_depth = 2).fit(X_train, Y_train)\n",
        "dtree_predictions = dtree_model.predict(X_test)\n",
        "accuracy = accuracy_score(dtree_predictions, Y_test)\n",
        "print(\"Accuracy through decision tree classifier:\")\n",
        "print(accuracy)"
      ],
      "metadata": {
        "colab": {
          "base_uri": "https://localhost:8080/"
        },
        "id": "QjbcoJdwF4kY",
        "outputId": "e9ca890b-4876-4ede-f8ba-69ff8ef40786"
      },
      "execution_count": null,
      "outputs": [
        {
          "output_type": "stream",
          "name": "stdout",
          "text": [
            "Accuracy through decision tree classifier:\n",
            "0.9935064935064936\n"
          ]
        }
      ]
    },
    {
      "cell_type": "code",
      "source": [
        "from sklearn import svm\n",
        "SVM = svm.LinearSVC()\n",
        "SVM.fit(X_train, Y_train)\n",
        "svm_predictions = SVM.predict(X_test)\n",
        "accuracy = accuracy_score(svm_predictions, Y_test)\n",
        "print(\"Accuracy through SVM classifier:\")\n",
        "print(accuracy)"
      ],
      "metadata": {
        "colab": {
          "base_uri": "https://localhost:8080/"
        },
        "id": "2IHwt_IpGXZ4",
        "outputId": "b9f14a0c-2bd1-4c1a-f6a7-2bb26e7fcce4"
      },
      "execution_count": null,
      "outputs": [
        {
          "output_type": "stream",
          "name": "stdout",
          "text": [
            "Accuracy through SVM classifier:\n",
            "0.974025974025974\n"
          ]
        }
      ]
    },
    {
      "cell_type": "code",
      "source": [
        "import sklearn as sk\n",
        "from sklearn.ensemble import RandomForestClassifier\n",
        "RF = RandomForestClassifier(n_estimators=100, max_depth=2, random_state=0)\n",
        "RF.fit(X_train, Y_train)\n",
        "RF_predictions = RF.predict(X_test)\n",
        "accuracy = accuracy_score(RF_predictions, Y_test)\n",
        "print(\"Accuracy through Random Forest classifier:\")\n",
        "print(accuracy)"
      ],
      "metadata": {
        "colab": {
          "base_uri": "https://localhost:8080/"
        },
        "id": "i4ntaIBiHKbK",
        "outputId": "2f2c1488-f2c2-4501-8942-a0b5f192c4be"
      },
      "execution_count": null,
      "outputs": [
        {
          "output_type": "stream",
          "name": "stdout",
          "text": [
            "Accuracy through Random Forest classifier:\n",
            "0.9935064935064936\n"
          ]
        }
      ]
    },
    {
      "cell_type": "code",
      "source": [
        "import sklearn as sk\n",
        "from sklearn.linear_model import LogisticRegression\n",
        "LR = LogisticRegression()\n",
        "LR.fit(X_train,Y_train)\n",
        "LR_predictions = LR.predict(X_test)\n",
        "accuracy = accuracy_score(LR_predictions, Y_test)\n",
        "print(\"Accuracy through Logistic Regression:\")\n",
        "print(accuracy)"
      ],
      "metadata": {
        "colab": {
          "base_uri": "https://localhost:8080/"
        },
        "id": "BbXuzKk8H9mB",
        "outputId": "2bae1a9b-0271-48ac-e6be-6730c9ac324c"
      },
      "execution_count": null,
      "outputs": [
        {
          "output_type": "stream",
          "name": "stdout",
          "text": [
            "Accuracy through Logistic Regression:\n",
            "0.9805194805194806\n"
          ]
        }
      ]
    },
    {
      "cell_type": "code",
      "source": [
        "import sklearn as sk\n",
        "from sklearn.neural_network import MLPClassifier\n",
        "\n",
        "NN = MLPClassifier(solver='lbfgs', alpha=1e-5, hidden_layer_sizes=(5, 2), random_state=1)\n",
        "NN.fit(X_train, Y_train)\n",
        "NN_predictions = NN.predict(X_test)\n",
        "accuracy = accuracy_score(NN_predictions, Y_test)\n",
        "print(\"Accuracy through Neural Networks classifier:\")\n",
        "print(accuracy)"
      ],
      "metadata": {
        "colab": {
          "base_uri": "https://localhost:8080/"
        },
        "id": "pNnJ-63iIsQn",
        "outputId": "1942d41e-9667-4cc6-bb1e-787ef224ec1b"
      },
      "execution_count": null,
      "outputs": [
        {
          "output_type": "stream",
          "name": "stdout",
          "text": [
            "Accuracy through Neural Networks classifier:\n",
            "0.9545454545454546\n"
          ]
        }
      ]
    },
    {
      "cell_type": "code",
      "source": [
        "from scipy import stats\n",
        "# Set your desired level of confidence and margin of error\n",
        "confidence_level = 0.95\n",
        "margin_of_error = 0.05\n",
        "# Calculate the sample size using the formula\n",
        "sample_size = np.ceil((stats.norm.ppf(1 - (1 - confidence_level)/2)**2 * 0.25 / (margin_of_error)**2))\n",
        "\n",
        "#samples = data.sample(n=int(sample_size), random_state=42)\n",
        "# Proportionate Stratified sampling\n",
        "samples = data.groupby(\"Class\", group_keys=False).apply(lambda x:x.sample(frac=0.8))\n",
        "# Print the sample size and the first few rows of the sample\n",
        "print(\"Sample size:\", sample_size)\n",
        "print(samples.head())\n",
        "\n",
        "pd.DataFrame(samples).to_csv(\"sample2.csv\")\n",
        "sample2=pd.read_csv('sample2.csv')\n",
        "\n",
        "\n"
      ],
      "metadata": {
        "colab": {
          "base_uri": "https://localhost:8080/"
        },
        "id": "ZA0f07SFyQVv",
        "outputId": "416ad8e2-e36c-4b7a-e78a-3d74f0f0d079"
      },
      "execution_count": null,
      "outputs": [
        {
          "output_type": "stream",
          "name": "stdout",
          "text": [
            "Sample size: 385.0\n",
            "     Time        V1        V2        V3        V4        V5        V6  \\\n",
            "471   346  1.077079  0.284980  0.007731  1.657073  0.052020  0.446389   \n",
            "134    83 -1.897331  0.955626  0.052543  1.276656 -3.323084  3.229911   \n",
            "7       7 -0.644269  1.417964  1.074380 -0.492199  0.948934  0.428118   \n",
            "528   392 -2.153491  0.104021  1.459532 -1.613284 -1.071361  0.192161   \n",
            "249   169 -4.066862 -5.081215 -0.116908 -1.312829  2.688762  2.755895   \n",
            "\n",
            "           V7        V8        V9  ...       V21       V22       V23  \\\n",
            "471 -0.407036  0.355704  0.626039  ... -0.174337 -0.174161 -0.153375   \n",
            "134  1.029631  1.515607 -0.059627  ...  0.128416  0.776078  0.477537   \n",
            "7    1.120631 -3.807864  0.615375  ...  1.943465 -1.015455  0.057504   \n",
            "528 -0.332748  0.462717 -0.209569  ... -0.101937  0.096735 -0.490325   \n",
            "249 -1.999095  1.726413 -0.413594  ...  0.794926  0.294823  0.429791   \n",
            "\n",
            "          V24       V25       V26       V27       V28  Amount  Class  \n",
            "471 -0.466331  0.611001 -0.252871  0.090375  0.054820   10.99      0  \n",
            "134 -0.608981 -1.120892 -0.413851  0.061399 -0.187964  552.18      0  \n",
            "7   -0.649709 -0.415267 -0.051634 -1.206921 -1.085339   40.80      0  \n",
            "528 -0.392662  0.608578 -0.338382 -0.352132 -0.422726   82.29      0  \n",
            "249  1.059320  0.606301 -0.183101 -0.057777 -0.532404  355.51      0  \n",
            "\n",
            "[5 rows x 31 columns]\n"
          ]
        }
      ]
    },
    {
      "cell_type": "code",
      "source": [
        "X = sample2.iloc[:,0:30]\n",
        "Y = sample2['Class']\n",
        "print(X)"
      ],
      "metadata": {
        "colab": {
          "base_uri": "https://localhost:8080/"
        },
        "id": "dtBOQoi3JOZN",
        "outputId": "19842533-a267-461d-f448-338bceb6061c"
      },
      "execution_count": null,
      "outputs": [
        {
          "output_type": "stream",
          "name": "stdout",
          "text": [
            "      Unnamed: 0  Time        V1        V2        V3        V4        V5  \\\n",
            "0            471   346  1.077079  0.284980  0.007731  1.657073  0.052020   \n",
            "1            134    83 -1.897331  0.955626  0.052543  1.276656 -3.323084   \n",
            "2              7     7 -0.644269  1.417964  1.074380 -0.492199  0.948934   \n",
            "3            528   392 -2.153491  0.104021  1.459532 -1.613284 -1.071361   \n",
            "4            249   169 -4.066862 -5.081215 -0.116908 -1.312829  2.688762   \n",
            "...          ...   ...       ...       ...       ...       ...       ...   \n",
            "1215        1056   484 -0.928088  0.398194  1.741131  0.182673  0.966387   \n",
            "1216         965   484 -0.928088  0.398194  1.741131  0.182673  0.966387   \n",
            "1217         774   118  1.254914  0.350287  0.302488  0.693114 -0.371470   \n",
            "1218        1356   529 -2.000567 -2.495484  2.467149  1.140053  2.462010   \n",
            "1219        1159     0  1.191857  0.266151  0.166480  0.448154  0.060018   \n",
            "\n",
            "            V6        V7        V8  ...       V19       V20       V21  \\\n",
            "0     0.446389 -0.407036  0.355704  ... -0.153583 -0.142799 -0.174337   \n",
            "1     3.229911  1.029631  1.515607  ... -0.930024 -0.832630  0.128416   \n",
            "2     0.428118  1.120631 -3.807864  ...  0.324505 -0.156742  1.943465   \n",
            "3     0.192161 -0.332748  0.462717  ...  0.676053  0.227422 -0.101937   \n",
            "4     2.755895 -1.999095  1.726413  ...  0.534228  1.876937  0.794926   \n",
            "...        ...       ...       ...  ...       ...       ...       ...   \n",
            "1215 -0.901004  0.879016 -0.156590  ... -1.194998 -0.118283  0.066353   \n",
            "1216 -0.901004  0.879016 -0.156590  ... -1.194998 -0.118283  0.066353   \n",
            "1217 -1.070256  0.086781 -0.202836  ... -0.196569 -0.079756 -0.287592   \n",
            "1218  0.594262 -2.110183  0.788347  ... -0.624299  0.620899  0.422452   \n",
            "1219 -0.082361 -0.078803  0.085102  ... -0.145783 -0.069083 -0.225775   \n",
            "\n",
            "           V22       V23       V24       V25       V26       V27       V28  \n",
            "0    -0.174161 -0.153375 -0.466331  0.611001 -0.252871  0.090375  0.054820  \n",
            "1     0.776078  0.477537 -0.608981 -1.120892 -0.413851  0.061399 -0.187964  \n",
            "2    -1.015455  0.057504 -0.649709 -0.415267 -0.051634 -1.206921 -1.085339  \n",
            "3     0.096735 -0.490325 -0.392662  0.608578 -0.338382 -0.352132 -0.422726  \n",
            "4     0.294823  0.429791  1.059320  0.606301 -0.183101 -0.057777 -0.532404  \n",
            "...        ...       ...       ...       ...       ...       ...       ...  \n",
            "1215  0.281378 -0.257966  0.385384  0.391117 -0.453853 -0.104448 -0.125765  \n",
            "1216  0.281378 -0.257966  0.385384  0.391117 -0.453853 -0.104448 -0.125765  \n",
            "1217 -0.832682  0.128083  0.339427  0.215944  0.094704 -0.023354  0.030892  \n",
            "1218  1.195394  0.297836 -0.857105 -0.219322  0.861019 -0.124622 -0.171060  \n",
            "1219 -0.638672  0.101288 -0.339846  0.167170  0.125895 -0.008983  0.014724  \n",
            "\n",
            "[1220 rows x 30 columns]\n"
          ]
        }
      ]
    },
    {
      "cell_type": "code",
      "source": [
        "print(Y)"
      ],
      "metadata": {
        "colab": {
          "base_uri": "https://localhost:8080/"
        },
        "id": "g66CW83VJZpU",
        "outputId": "c3c23320-2767-4204-e08a-73a01501a65f"
      },
      "execution_count": null,
      "outputs": [
        {
          "output_type": "stream",
          "name": "stdout",
          "text": [
            "0       0\n",
            "1       0\n",
            "2       0\n",
            "3       0\n",
            "4       0\n",
            "       ..\n",
            "1215    1\n",
            "1216    1\n",
            "1217    1\n",
            "1218    1\n",
            "1219    1\n",
            "Name: Class, Length: 1220, dtype: int64\n"
          ]
        }
      ]
    },
    {
      "cell_type": "code",
      "source": [
        "from sklearn.preprocessing import MinMaxScaler\n",
        "X_train, X_test, Y_train, Y_test = train_test_split(X, Y, test_size=0.4, stratify=Y, random_state=5)\n",
        "print(X.shape, X_train.shape, X_test.shape)\n",
        "scaler = MinMaxScaler()\n",
        "X_train = scaler.fit_transform(X_train)\n",
        "X_test = scaler.transform(X_test)"
      ],
      "metadata": {
        "colab": {
          "base_uri": "https://localhost:8080/"
        },
        "id": "QbMs5Tt6Jg8n",
        "outputId": "2e570758-010f-40ec-d621-9ee2e0af317b"
      },
      "execution_count": null,
      "outputs": [
        {
          "output_type": "stream",
          "name": "stdout",
          "text": [
            "(1220, 30) (732, 30) (488, 30)\n"
          ]
        }
      ]
    },
    {
      "cell_type": "code",
      "source": [
        "from sklearn.tree import DecisionTreeClassifier\n",
        "dtree_model = DecisionTreeClassifier(max_depth = 2).fit(X_train, Y_train)\n",
        "dtree_predictions = dtree_model.predict(X_test)\n",
        "accuracy = accuracy_score(dtree_predictions, Y_test)\n",
        "print(\"Accuracy through decision tree classifier:\")\n",
        "print(accuracy)"
      ],
      "metadata": {
        "colab": {
          "base_uri": "https://localhost:8080/"
        },
        "id": "c-zvJJOEJbV2",
        "outputId": "6e2d86fb-87b8-4699-f8b0-d20b8af403db"
      },
      "execution_count": null,
      "outputs": [
        {
          "output_type": "stream",
          "name": "stdout",
          "text": [
            "Accuracy through decision tree classifier:\n",
            "0.9836065573770492\n"
          ]
        }
      ]
    },
    {
      "cell_type": "code",
      "source": [
        "from sklearn import svm\n",
        "SVM = svm.LinearSVC()\n",
        "SVM.fit(X_train, Y_train)\n",
        "svm_predictions = SVM.predict(X_test)\n",
        "accuracy = accuracy_score(svm_predictions, Y_test)\n",
        "print(\"Accuracy through SVM classifier:\")\n",
        "print(accuracy)"
      ],
      "metadata": {
        "colab": {
          "base_uri": "https://localhost:8080/"
        },
        "id": "V1Jop7p2JVSe",
        "outputId": "a1cc9ee5-6f7c-4f5b-c8ca-6c9ed0e7459a"
      },
      "execution_count": null,
      "outputs": [
        {
          "output_type": "stream",
          "name": "stdout",
          "text": [
            "Accuracy through SVM classifier:\n",
            "0.9754098360655737\n"
          ]
        }
      ]
    },
    {
      "cell_type": "code",
      "source": [
        "import sklearn as sk\n",
        "from sklearn.ensemble import RandomForestClassifier\n",
        "RF = RandomForestClassifier(n_estimators=100, max_depth=2, random_state=0)\n",
        "RF.fit(X_train, Y_train)\n",
        "RF_predictions = RF.predict(X_test)\n",
        "accuracy = accuracy_score(RF_predictions, Y_test)\n",
        "print(\"Accuracy through Random Forest classifier:\")\n",
        "print(accuracy)"
      ],
      "metadata": {
        "colab": {
          "base_uri": "https://localhost:8080/"
        },
        "id": "GzqEtRjoJcGG",
        "outputId": "6c02bbaa-ce71-46a6-ffb1-cd3a54a8faff"
      },
      "execution_count": null,
      "outputs": [
        {
          "output_type": "stream",
          "name": "stdout",
          "text": [
            "Accuracy through Random Forest classifier:\n",
            "0.9959016393442623\n"
          ]
        }
      ]
    },
    {
      "cell_type": "code",
      "source": [
        "import sklearn as sk\n",
        "from sklearn.linear_model import LogisticRegression\n",
        "LR = LogisticRegression()\n",
        "LR.fit(X_train,Y_train)\n",
        "LR_predictions = LR.predict(X_test)\n",
        "accuracy = accuracy_score(LR_predictions, Y_test)\n",
        "print(\"Accuracy through Logistic Regression:\")\n",
        "print(accuracy)"
      ],
      "metadata": {
        "colab": {
          "base_uri": "https://localhost:8080/"
        },
        "id": "mF6R5U9cJdwD",
        "outputId": "d35d98cb-c58c-49e8-dbd8-92ef4d3e395c"
      },
      "execution_count": null,
      "outputs": [
        {
          "output_type": "stream",
          "name": "stdout",
          "text": [
            "Accuracy through Logistic Regression:\n",
            "0.9795081967213115\n"
          ]
        }
      ]
    },
    {
      "cell_type": "code",
      "source": [
        "import sklearn as sk\n",
        "from sklearn.neural_network import MLPClassifier\n",
        "\n",
        "NN = MLPClassifier(solver='lbfgs', alpha=1e-5, hidden_layer_sizes=(5, 2), random_state=1)\n",
        "NN.fit(X_train, Y_train)\n",
        "NN_predictions = NN.predict(X_test)\n",
        "accuracy = accuracy_score(NN_predictions, Y_test)\n",
        "print(\"Accuracy through Neural Networks classifier:\")\n",
        "print(accuracy)"
      ],
      "metadata": {
        "colab": {
          "base_uri": "https://localhost:8080/"
        },
        "id": "lTtzjrlIJmsk",
        "outputId": "733cae22-7b28-45e0-f36c-a0c885fd7049"
      },
      "execution_count": null,
      "outputs": [
        {
          "output_type": "stream",
          "name": "stdout",
          "text": [
            "Accuracy through Neural Networks classifier:\n",
            "0.9733606557377049\n"
          ]
        }
      ]
    },
    {
      "cell_type": "code",
      "source": [
        "from scipy import stats\n",
        "# Set your desired level of confidence and margin of error\n",
        "confidence_level = 0.95\n",
        "margin_of_error = 0.05\n",
        "# Calculate the sample size using the formula\n",
        "sample_size = np.ceil((stats.norm.ppf(1 - (1 - confidence_level)/2)**2 * 0.25 / (margin_of_error)**2))\n",
        "\n",
        "#samples = data.sample(n=int(sample_size), random_state=42)\n",
        "#Disproportionate stratified random sampling\n",
        "samples=data.groupby('Class', group_keys=False).apply(lambda x: x.sample(n=8))\n",
        "\n",
        "# Print the sample size and the first few rows of the sample\n",
        "print(\"Sample size:\", sample_size)\n",
        "print(samples.head())\n",
        "\n",
        "pd.DataFrame(samples).to_csv(\"sample3.csv\")\n",
        "sample3=pd.read_csv('sample3.csv')"
      ],
      "metadata": {
        "colab": {
          "base_uri": "https://localhost:8080/"
        },
        "id": "Q2FTBGKp-wGL",
        "outputId": "ac168197-7d8f-4a5c-e5f7-30169ec61dc4"
      },
      "execution_count": null,
      "outputs": [
        {
          "output_type": "stream",
          "name": "stdout",
          "text": [
            "Sample size: 385.0\n",
            "     Time        V1        V2        V3        V4        V5        V6  \\\n",
            "100    68  1.156939  0.037215  0.556799  0.519507 -0.479754 -0.352714   \n",
            "565   423  1.174846 -0.097105 -0.361083  0.914490  0.594571  1.106664   \n",
            "615   463 -0.634597  0.866354  1.123836 -0.304041  1.173910  0.257118   \n",
            "416   302  1.073785 -0.170037  0.790656  1.128605 -0.585960  0.070807   \n",
            "280   199  1.187706 -0.141019  0.563459  0.766383  0.151071  1.596937   \n",
            "\n",
            "           V7        V8        V9  ...       V21       V22       V23  \\\n",
            "100 -0.222487  0.158242  0.011252  ... -0.182662 -0.612268  0.197305   \n",
            "565 -0.114835  0.307650  0.347846  ... -0.157769 -0.388798 -0.303408   \n",
            "615  0.754325  0.171735 -0.825981  ...  0.160463  0.422873 -0.353721   \n",
            "416 -0.414937  0.057949  0.503324  ...  0.100287  0.147604 -0.184878   \n",
            "280 -0.742475  0.458518  0.669476  ... -0.090517 -0.023452 -0.207477   \n",
            "\n",
            "          V24       V25       V26       V27       V28  Amount  Class  \n",
            "100  0.174883  0.032497  0.099480 -0.026816  0.004199    2.69      0  \n",
            "565 -1.737288  0.805329 -0.221755  0.018558 -0.008570   43.34      0  \n",
            "615 -0.847192  0.206896 -0.436112  0.110134  0.102261    1.00      0  \n",
            "416 -0.460811  0.423909 -0.318168  0.046111  0.046843   90.00      0  \n",
            "280 -1.686137  0.559743 -0.291580  0.086083  0.008422    9.99      0  \n",
            "\n",
            "[5 rows x 31 columns]\n"
          ]
        }
      ]
    },
    {
      "cell_type": "code",
      "source": [
        "X = sample3.iloc[:,0:30]\n",
        "Y = sample3['Class']\n",
        "print(X)"
      ],
      "metadata": {
        "colab": {
          "base_uri": "https://localhost:8080/"
        },
        "id": "QdTKgRQTKOI4",
        "outputId": "8b0c59a3-e50a-4bec-9550-43ea2c482a01"
      },
      "execution_count": null,
      "outputs": [
        {
          "output_type": "stream",
          "name": "stdout",
          "text": [
            "    Unnamed: 0  Time        V1        V2        V3        V4        V5  \\\n",
            "0          100    68  1.156939  0.037215  0.556799  0.519507 -0.479754   \n",
            "1          565   423  1.174846 -0.097105 -0.361083  0.914490  0.594571   \n",
            "2          615   463 -0.634597  0.866354  1.123836 -0.304041  1.173910   \n",
            "3          416   302  1.073785 -0.170037  0.790656  1.128605 -0.585960   \n",
            "4          280   199  1.187706 -0.141019  0.563459  0.766383  0.151071   \n",
            "5          727   549  0.033854 -1.818313  1.077334  3.350537 -1.292195   \n",
            "6          483   355  1.085840  0.126686  0.498972  1.333700 -0.199129   \n",
            "7          287   206 -1.499761  1.059588  0.496912  1.006069 -0.672949   \n",
            "8          830   529 -2.000567 -2.495484  2.467149  1.140053  2.462010   \n",
            "9         1425   539 -1.738582  0.052740  1.187057 -0.656652  0.920623   \n",
            "10        1255   484 -0.928088  0.398194  1.741131  0.182673  0.966387   \n",
            "11        1402   406 -2.312227  1.951992 -1.609851  3.997906 -0.522188   \n",
            "12         976   164  0.073497  0.551033  0.451890  0.114964  0.822947   \n",
            "13         972   472 -3.043541 -3.157307  1.088463  2.288644  1.359805   \n",
            "14        1161   574  1.257719  0.364739  0.306923  0.690638 -0.357792   \n",
            "15         541   406 -2.312227  1.951992 -1.609851  3.997906 -0.522188   \n",
            "\n",
            "          V6        V7        V8  ...       V19       V20       V21       V22  \\\n",
            "0  -0.352714 -0.222487  0.158242  ... -0.254105 -0.221852 -0.182662 -0.612268   \n",
            "1   1.106664 -0.114835  0.307650  ...  0.570590 -0.138106 -0.157769 -0.388798   \n",
            "2   0.257118  0.754325  0.171735  ... -0.630728 -0.105239  0.160463  0.422873   \n",
            "3   0.070807 -0.414937  0.057949  ... -0.414612  0.086693  0.100287  0.147604   \n",
            "4   1.596937 -0.742475  0.458518  ...  0.367603 -0.064767 -0.090517 -0.023452   \n",
            "5   1.546080 -0.282520  0.402055  ... -0.677380  0.809245  0.108768 -0.451008   \n",
            "6   0.032644 -0.015574  0.116091  ... -0.158301 -0.162853 -0.029953  0.087509   \n",
            "7  -0.490299  1.102433 -0.084854  ...  0.507019 -0.634804  0.082710  0.610348   \n",
            "8   0.594262 -2.110183  0.788347  ... -0.624299  0.620899  0.422452  1.195394   \n",
            "9  -0.291788  0.269083  0.140631  ... -0.140598  0.002974 -0.179545 -0.192036   \n",
            "10 -0.901004  0.879016 -0.156590  ... -1.194998 -0.118283  0.066353  0.281378   \n",
            "11 -1.426545 -2.537387  1.391657  ...  0.416956  0.126911  0.517232 -0.035049   \n",
            "12  0.251480  0.296319  0.139497  ...  0.777333 -0.043920 -0.128758 -0.381932   \n",
            "13 -1.064823  0.325574 -0.067794  ...  0.283345  2.102339  0.661696  0.435477   \n",
            "14 -1.067481  0.094272 -0.210300  ... -0.197052 -0.073779 -0.286856 -0.820658   \n",
            "15 -1.426545 -2.537387  1.391657  ...  0.416956  0.126911  0.517232 -0.035049   \n",
            "\n",
            "         V23       V24       V25       V26       V27       V28  \n",
            "0   0.197305  0.174883  0.032497  0.099480 -0.026816  0.004199  \n",
            "1  -0.303408 -1.737288  0.805329 -0.221755  0.018558 -0.008570  \n",
            "2  -0.353721 -0.847192  0.206896 -0.436112  0.110134  0.102261  \n",
            "3  -0.184878 -0.460811  0.423909 -0.318168  0.046111  0.046843  \n",
            "4  -0.207477 -1.686137  0.559743 -0.291580  0.086083  0.008422  \n",
            "5  -0.475113 -0.261082  0.181753  0.025919 -0.019035  0.117564  \n",
            "6  -0.059209  0.245501  0.601876 -0.344061  0.034199  0.009880  \n",
            "7   0.257934  0.426521 -0.145909 -0.348520 -0.215146 -0.027602  \n",
            "8   0.297836 -0.857105 -0.219322  0.861019 -0.124622 -0.171060  \n",
            "9  -0.261879 -0.237477 -0.335040  0.240323 -0.345129 -0.383563  \n",
            "10 -0.257966  0.385384  0.391117 -0.453853 -0.104448 -0.125765  \n",
            "11 -0.465211  0.320198  0.044519  0.177840  0.261145 -0.143276  \n",
            "12  0.151012 -1.363967 -1.389079  0.075412  0.231750  0.230171  \n",
            "13  1.375966 -0.293803  0.279798 -0.145362 -0.252773  0.035764  \n",
            "14  0.127663  0.343128  0.221120  0.094391 -0.022189  0.030944  \n",
            "15 -0.465211  0.320198  0.044519  0.177840  0.261145 -0.143276  \n",
            "\n",
            "[16 rows x 30 columns]\n"
          ]
        }
      ]
    },
    {
      "cell_type": "code",
      "source": [
        "print(Y)"
      ],
      "metadata": {
        "colab": {
          "base_uri": "https://localhost:8080/"
        },
        "id": "RLzJVA3fKcQ3",
        "outputId": "9c16c7a7-e906-4dd5-cd95-bbb7555018f2"
      },
      "execution_count": null,
      "outputs": [
        {
          "output_type": "stream",
          "name": "stdout",
          "text": [
            "0     0\n",
            "1     0\n",
            "2     0\n",
            "3     0\n",
            "4     0\n",
            "5     0\n",
            "6     0\n",
            "7     0\n",
            "8     1\n",
            "9     1\n",
            "10    1\n",
            "11    1\n",
            "12    1\n",
            "13    1\n",
            "14    1\n",
            "15    1\n",
            "Name: Class, dtype: int64\n"
          ]
        }
      ]
    },
    {
      "cell_type": "code",
      "source": [
        "from sklearn.preprocessing import MinMaxScaler\n",
        "X_train, X_test, Y_train, Y_test = train_test_split(X, Y, test_size=0.4, stratify=Y, random_state=5)\n",
        "print(X.shape, X_train.shape, X_test.shape)\n",
        "scaler = MinMaxScaler()\n",
        "X_train = scaler.fit_transform(X_train)\n",
        "X_test = scaler.transform(X_test)"
      ],
      "metadata": {
        "colab": {
          "base_uri": "https://localhost:8080/"
        },
        "id": "zf8z-o0CKeLG",
        "outputId": "8e8c06de-12b8-4860-f9f1-215c0ccf1912"
      },
      "execution_count": null,
      "outputs": [
        {
          "output_type": "stream",
          "name": "stdout",
          "text": [
            "(16, 30) (9, 30) (7, 30)\n"
          ]
        }
      ]
    },
    {
      "cell_type": "code",
      "source": [
        "from sklearn.tree import DecisionTreeClassifier\n",
        "dtree_model = DecisionTreeClassifier(max_depth = 2).fit(X_train, Y_train)\n",
        "dtree_predictions = dtree_model.predict(X_test)\n",
        "accuracy = accuracy_score(dtree_predictions, Y_test)\n",
        "print(\"Accuracy through decision tree classifier:\")\n",
        "print(accuracy)"
      ],
      "metadata": {
        "colab": {
          "base_uri": "https://localhost:8080/"
        },
        "id": "0oYNVJxkKkMT",
        "outputId": "cd7b0058-7080-4887-8a32-4995e2096226"
      },
      "execution_count": null,
      "outputs": [
        {
          "output_type": "stream",
          "name": "stdout",
          "text": [
            "Accuracy through decision tree classifier:\n",
            "0.42857142857142855\n"
          ]
        }
      ]
    },
    {
      "cell_type": "code",
      "source": [
        "from sklearn import svm\n",
        "SVM = svm.LinearSVC()\n",
        "SVM.fit(X_train, Y_train)\n",
        "svm_predictions = SVM.predict(X_test)\n",
        "accuracy = accuracy_score(svm_predictions, Y_test)\n",
        "print(\"Accuracy through SVM classifier:\")\n",
        "print(accuracy)"
      ],
      "metadata": {
        "colab": {
          "base_uri": "https://localhost:8080/"
        },
        "id": "VOGBVDzIKqbr",
        "outputId": "47a32be1-3b96-409c-c4ca-4a91ac8c0a06"
      },
      "execution_count": null,
      "outputs": [
        {
          "output_type": "stream",
          "name": "stdout",
          "text": [
            "Accuracy through SVM classifier:\n",
            "0.7142857142857143\n"
          ]
        }
      ]
    },
    {
      "cell_type": "code",
      "source": [
        "import sklearn as sk\n",
        "from sklearn.ensemble import RandomForestClassifier\n",
        "RF = RandomForestClassifier(n_estimators=100, max_depth=2, random_state=0)\n",
        "RF.fit(X_train, Y_train)\n",
        "RF_predictions = RF.predict(X_test)\n",
        "accuracy = accuracy_score(RF_predictions, Y_test)\n",
        "print(\"Accuracy through Random Forest classifier:\")\n",
        "print(accuracy)"
      ],
      "metadata": {
        "colab": {
          "base_uri": "https://localhost:8080/"
        },
        "id": "Ld7NxmZNKuwq",
        "outputId": "49d2a62b-71dc-4218-8293-e2ca20288922"
      },
      "execution_count": null,
      "outputs": [
        {
          "output_type": "stream",
          "name": "stdout",
          "text": [
            "Accuracy through Random Forest classifier:\n",
            "0.7142857142857143\n"
          ]
        }
      ]
    },
    {
      "cell_type": "code",
      "source": [
        "import sklearn as sk\n",
        "from sklearn.linear_model import LogisticRegression\n",
        "LR = LogisticRegression()\n",
        "LR.fit(X_train,Y_train)\n",
        "LR_predictions = LR.predict(X_test)\n",
        "accuracy = accuracy_score(LR_predictions, Y_test)\n",
        "print(\"Accuracy through Logistic Regression:\")\n",
        "print(accuracy)"
      ],
      "metadata": {
        "colab": {
          "base_uri": "https://localhost:8080/"
        },
        "id": "rrixM3hcK1MY",
        "outputId": "3cbef46f-43a3-4fc9-b8f6-7bee7fa1ad8f"
      },
      "execution_count": null,
      "outputs": [
        {
          "output_type": "stream",
          "name": "stdout",
          "text": [
            "Accuracy through Logistic Regression:\n",
            "0.8571428571428571\n"
          ]
        }
      ]
    },
    {
      "cell_type": "code",
      "source": [
        "import sklearn as sk\n",
        "from sklearn.neural_network import MLPClassifier\n",
        "\n",
        "NN = MLPClassifier(solver='lbfgs', alpha=1e-5, hidden_layer_sizes=(5, 2), random_state=1)\n",
        "NN.fit(X_train, Y_train)\n",
        "NN_predictions = NN.predict(X_test)\n",
        "accuracy = accuracy_score(NN_predictions, Y_test)\n",
        "print(\"Accuracy through Neural Networks classifier:\")\n",
        "print(accuracy)"
      ],
      "metadata": {
        "colab": {
          "base_uri": "https://localhost:8080/"
        },
        "id": "CjaHC_qWK8cS",
        "outputId": "5058c7f7-6923-4a3b-fc1e-ff111cf202d1"
      },
      "execution_count": null,
      "outputs": [
        {
          "output_type": "stream",
          "name": "stdout",
          "text": [
            "Accuracy through Neural Networks classifier:\n",
            "0.42857142857142855\n"
          ]
        }
      ]
    },
    {
      "cell_type": "code",
      "source": [
        "from scipy import stats\n",
        "# Set your desired level of confidence and margin of error\n",
        "confidence_level = 0.95\n",
        "margin_of_error = 0.05\n",
        "# Calculate the sample size using the formula\n",
        "sample_size = np.ceil((stats.norm.ppf(1 - (1 - confidence_level)/2)**2 * 0.25 / (margin_of_error)**2))\n",
        "\n",
        "#Systematic sampling\n",
        "# Set the systematic sampling interval to select every 5th observation\n",
        "sampling_interval = 5\n",
        "# Create a list of indices to sample using systematic sampling\n",
        "sample_indices = list(range(0, len(data), sampling_interval))\n",
        "\n",
        "# Use the sample indices to extract a systematic sample from the credit card dataset\n",
        "samples = data.iloc[sample_indices]\n",
        "\n",
        "# Print the first 10 rows of the systematic sample\n",
        "print(samples.head(10))\n",
        "\n",
        "# Randomly select the required number of samples from the dataframe\n",
        "#samples = data.sample(n=int(sample_size), random_state=42)\n",
        "\n",
        "# Print the sample size and the first few rows of the sample\n",
        "print(\"Sample size:\", sample_size)\n",
        "print(samples.head())\n",
        "\n",
        "pd.DataFrame(samples).to_csv(\"sample4.csv\")\n",
        "sample4=pd.read_csv('sample4.csv')"
      ],
      "metadata": {
        "colab": {
          "base_uri": "https://localhost:8080/"
        },
        "id": "_-KPHcY6_Kvq",
        "outputId": "f1d92b71-f70a-4fc4-de61-6f66a117d880"
      },
      "execution_count": null,
      "outputs": [
        {
          "output_type": "stream",
          "name": "stdout",
          "text": [
            "    Time        V1        V2        V3        V4        V5        V6  \\\n",
            "0      0 -1.359807 -0.072781  2.536347  1.378155 -0.338321  0.462388   \n",
            "5      2 -0.425966  0.960523  1.141109 -0.168252  0.420987 -0.029728   \n",
            "10    10  1.449044 -1.176339  0.913860 -1.375667 -1.971383 -0.629152   \n",
            "15    12 -0.752417  0.345485  2.057323 -1.468643 -1.158394 -0.077850   \n",
            "20    16  0.694885 -1.361819  1.029221  0.834159 -1.191209  1.309109   \n",
            "25    22 -2.074295 -0.121482  1.322021  0.410008  0.295198 -0.959537   \n",
            "30    24  1.237429  0.061043  0.380526  0.761564 -0.359771 -0.494084   \n",
            "35    26 -0.535388  0.865268  1.351076  0.147575  0.433680  0.086983   \n",
            "40    32  1.249055 -0.624727 -0.710589 -0.991600  1.429973  3.692977   \n",
            "45    34  1.138316  0.056956  0.649419  0.873062 -0.468466 -0.410195   \n",
            "\n",
            "          V7        V8        V9  ...       V23       V24       V25       V26  \\\n",
            "0   0.239599  0.098698  0.363787  ... -0.110474  0.066928  0.128539 -0.189115   \n",
            "5   0.476201  0.260314 -0.568671  ... -0.026398 -0.371427 -0.232794  0.105915   \n",
            "10 -1.423236  0.048456 -1.720408  ...  0.027740  0.500512  0.251367 -0.129478   \n",
            "15 -0.608581  0.003603 -0.436167  ... -0.256573 -0.065084 -0.039124 -0.087086   \n",
            "20 -0.878586  0.445290 -0.446196  ... -0.050881 -0.304215  0.072001 -0.422234   \n",
            "25  0.543985 -0.104627  0.475664  ...  0.742435  0.398535  0.249212  0.274404   \n",
            "30  0.006494 -0.133862  0.438810  ... -0.044265  0.079168  0.509136  0.288858   \n",
            "35  0.693039  0.179742 -0.285642  ... -0.187108  0.000753  0.098117 -0.553471   \n",
            "40 -1.090209  0.967291  0.850149  ... -0.129463  1.112970  0.500382  1.196549   \n",
            "45 -0.013898 -0.072440  0.306788  ...  0.059405  0.456286  0.361004  0.274414   \n",
            "\n",
            "         V27       V28  Amount  Class  cluster  class  \n",
            "0   0.133558 -0.021053  149.62      0        0      0  \n",
            "5   0.253844  0.081080    3.67      0        0      0  \n",
            "10  0.042850  0.016253    7.80      0        0      0  \n",
            "15 -0.180998  0.129394   15.99      0        0      0  \n",
            "20  0.086553  0.063499  231.71      0        0      0  \n",
            "25  0.359969  0.243232   26.43      0        0      0  \n",
            "30 -0.022705  0.011836   17.28      0        0      0  \n",
            "35 -0.078306  0.025427    1.77      0        0      0  \n",
            "40 -0.048220  0.005094   29.89      0        0      0  \n",
            "45 -0.002498  0.017109   21.34      0        0      0  \n",
            "\n",
            "[10 rows x 33 columns]\n",
            "Sample size: 385.0\n",
            "    Time        V1        V2        V3        V4        V5        V6  \\\n",
            "0      0 -1.359807 -0.072781  2.536347  1.378155 -0.338321  0.462388   \n",
            "5      2 -0.425966  0.960523  1.141109 -0.168252  0.420987 -0.029728   \n",
            "10    10  1.449044 -1.176339  0.913860 -1.375667 -1.971383 -0.629152   \n",
            "15    12 -0.752417  0.345485  2.057323 -1.468643 -1.158394 -0.077850   \n",
            "20    16  0.694885 -1.361819  1.029221  0.834159 -1.191209  1.309109   \n",
            "\n",
            "          V7        V8        V9  ...       V23       V24       V25       V26  \\\n",
            "0   0.239599  0.098698  0.363787  ... -0.110474  0.066928  0.128539 -0.189115   \n",
            "5   0.476201  0.260314 -0.568671  ... -0.026398 -0.371427 -0.232794  0.105915   \n",
            "10 -1.423236  0.048456 -1.720408  ...  0.027740  0.500512  0.251367 -0.129478   \n",
            "15 -0.608581  0.003603 -0.436167  ... -0.256573 -0.065084 -0.039124 -0.087086   \n",
            "20 -0.878586  0.445290 -0.446196  ... -0.050881 -0.304215  0.072001 -0.422234   \n",
            "\n",
            "         V27       V28  Amount  Class  cluster  class  \n",
            "0   0.133558 -0.021053  149.62      0        0      0  \n",
            "5   0.253844  0.081080    3.67      0        0      0  \n",
            "10  0.042850  0.016253    7.80      0        0      0  \n",
            "15 -0.180998  0.129394   15.99      0        0      0  \n",
            "20  0.086553  0.063499  231.71      0        0      0  \n",
            "\n",
            "[5 rows x 33 columns]\n"
          ]
        }
      ]
    },
    {
      "cell_type": "code",
      "source": [
        "X = sample4.iloc[:,0:30]\n",
        "Y = sample4['Class']\n",
        "print(X)"
      ],
      "metadata": {
        "colab": {
          "base_uri": "https://localhost:8080/"
        },
        "id": "1ER-5eDCLau1",
        "outputId": "1956466b-8f38-444c-dbb4-d0ac0aec533d"
      },
      "execution_count": null,
      "outputs": [
        {
          "output_type": "stream",
          "name": "stdout",
          "text": [
            "     Unnamed: 0  Time        V1        V2        V3        V4        V5  \\\n",
            "0             0     0 -1.359807 -0.072781  2.536347  1.378155 -0.338321   \n",
            "1             5     2 -0.425966  0.960523  1.141109 -0.168252  0.420987   \n",
            "2            10    10  1.449044 -1.176339  0.913860 -1.375667 -1.971383   \n",
            "3            15    12 -0.752417  0.345485  2.057323 -1.468643 -1.158394   \n",
            "4            20    16  0.694885 -1.361819  1.029221  0.834159 -1.191209   \n",
            "..          ...   ...       ...       ...       ...       ...       ...   \n",
            "301        1505   472 -3.043541 -3.157307  1.088463  2.288644  1.359805   \n",
            "302        1510   472 -3.043541 -3.157307  1.088463  2.288644  1.359805   \n",
            "303        1515     0  1.191857  0.266151  0.166480  0.448154  0.060018   \n",
            "304        1520   164  0.073497  0.551033  0.451890  0.114964  0.822947   \n",
            "305        1525   529 -2.000567 -2.495484  2.467149  1.140053  2.462010   \n",
            "\n",
            "           V6        V7        V8  ...       V19       V20       V21  \\\n",
            "0    0.462388  0.239599  0.098698  ...  0.403993  0.251412 -0.018307   \n",
            "1   -0.029728  0.476201  0.260314  ... -0.033194  0.084968 -0.208254   \n",
            "2   -0.629152 -1.423236  0.048456  ... -0.221365 -0.387226 -0.009302   \n",
            "3   -0.077850 -0.608581  0.003603  ...  0.432535  0.263451  0.499625   \n",
            "4    1.309109 -0.878586  0.445290  ... -1.300408 -0.138334 -0.295583   \n",
            "..        ...       ...       ...  ...       ...       ...       ...   \n",
            "301 -1.064823  0.325574 -0.067794  ...  0.283345  2.102339  0.661696   \n",
            "302 -1.064823  0.325574 -0.067794  ...  0.283345  2.102339  0.661696   \n",
            "303 -0.082361 -0.078803  0.085102  ... -0.145783 -0.069083 -0.225775   \n",
            "304  0.251480  0.296319  0.139497  ...  0.777333 -0.043920 -0.128758   \n",
            "305  0.594262 -2.110183  0.788347  ... -0.624299  0.620899  0.422452   \n",
            "\n",
            "          V22       V23       V24       V25       V26       V27       V28  \n",
            "0    0.277838 -0.110474  0.066928  0.128539 -0.189115  0.133558 -0.021053  \n",
            "1   -0.559825 -0.026398 -0.371427 -0.232794  0.105915  0.253844  0.081080  \n",
            "2    0.313894  0.027740  0.500512  0.251367 -0.129478  0.042850  0.016253  \n",
            "3    1.353650 -0.256573 -0.065084 -0.039124 -0.087086 -0.180998  0.129394  \n",
            "4   -0.571955 -0.050881 -0.304215  0.072001 -0.422234  0.086553  0.063499  \n",
            "..        ...       ...       ...       ...       ...       ...       ...  \n",
            "301  0.435477  1.375966 -0.293803  0.279798 -0.145362 -0.252773  0.035764  \n",
            "302  0.435477  1.375966 -0.293803  0.279798 -0.145362 -0.252773  0.035764  \n",
            "303 -0.638672  0.101288 -0.339846  0.167170  0.125895 -0.008983  0.014724  \n",
            "304 -0.381932  0.151012 -1.363967 -1.389079  0.075412  0.231750  0.230171  \n",
            "305  1.195394  0.297836 -0.857105 -0.219322  0.861019 -0.124622 -0.171060  \n",
            "\n",
            "[306 rows x 30 columns]\n"
          ]
        }
      ]
    },
    {
      "cell_type": "code",
      "source": [
        "print(Y)"
      ],
      "metadata": {
        "colab": {
          "base_uri": "https://localhost:8080/"
        },
        "id": "ZDNc1RiXLnl9",
        "outputId": "77be796c-8cbf-4435-833b-6054e805206d"
      },
      "execution_count": null,
      "outputs": [
        {
          "output_type": "stream",
          "name": "stdout",
          "text": [
            "0      0\n",
            "1      0\n",
            "2      0\n",
            "3      0\n",
            "4      0\n",
            "      ..\n",
            "301    1\n",
            "302    1\n",
            "303    1\n",
            "304    1\n",
            "305    1\n",
            "Name: Class, Length: 306, dtype: int64\n"
          ]
        }
      ]
    },
    {
      "cell_type": "code",
      "source": [
        "from sklearn.preprocessing import MinMaxScaler\n",
        "X_train, X_test, Y_train, Y_test = train_test_split(X, Y, test_size=0.4, stratify=Y, random_state=5)\n",
        "print(X.shape, X_train.shape, X_test.shape)\n",
        "scaler = MinMaxScaler()\n",
        "X_train = scaler.fit_transform(X_train)\n",
        "X_test = scaler.transform(X_test)"
      ],
      "metadata": {
        "colab": {
          "base_uri": "https://localhost:8080/"
        },
        "id": "VO1NAF4eLpiD",
        "outputId": "94f95e03-7785-4859-8e52-7f3d414145db"
      },
      "execution_count": null,
      "outputs": [
        {
          "output_type": "stream",
          "name": "stdout",
          "text": [
            "(306, 30) (183, 30) (123, 30)\n"
          ]
        }
      ]
    },
    {
      "cell_type": "code",
      "source": [
        "from sklearn.tree import DecisionTreeClassifier\n",
        "dtree_model = DecisionTreeClassifier(max_depth = 2).fit(X_train, Y_train)\n",
        "dtree_predictions = dtree_model.predict(X_test)\n",
        "accuracy = accuracy_score(dtree_predictions, Y_test)\n",
        "print(\"Accuracy through decision tree classifier:\")\n",
        "print(accuracy)"
      ],
      "metadata": {
        "colab": {
          "base_uri": "https://localhost:8080/"
        },
        "id": "ZEd-NNWLLu8s",
        "outputId": "26ead798-4717-4100-b5d3-7ab07c1ea479"
      },
      "execution_count": null,
      "outputs": [
        {
          "output_type": "stream",
          "name": "stdout",
          "text": [
            "Accuracy through decision tree classifier:\n",
            "0.991869918699187\n"
          ]
        }
      ]
    },
    {
      "cell_type": "code",
      "source": [
        "from sklearn import svm\n",
        "SVM = svm.LinearSVC()\n",
        "SVM.fit(X_train, Y_train)\n",
        "svm_predictions = SVM.predict(X_test)\n",
        "accuracy = accuracy_score(svm_predictions, Y_test)\n",
        "print(\"Accuracy through SVM classifier:\")\n",
        "print(accuracy)"
      ],
      "metadata": {
        "colab": {
          "base_uri": "https://localhost:8080/"
        },
        "id": "nWgWc0v7L_f2",
        "outputId": "ddfecf80-8e5e-4f8f-e94e-5b19ebd8e385"
      },
      "execution_count": null,
      "outputs": [
        {
          "output_type": "stream",
          "name": "stdout",
          "text": [
            "Accuracy through SVM classifier:\n",
            "0.983739837398374\n"
          ]
        }
      ]
    },
    {
      "cell_type": "code",
      "source": [
        "import sklearn as sk\n",
        "from sklearn.ensemble import RandomForestClassifier\n",
        "RF = RandomForestClassifier(n_estimators=100, max_depth=2, random_state=0)\n",
        "RF.fit(X_train, Y_train)\n",
        "RF_predictions = RF.predict(X_test)\n",
        "accuracy = accuracy_score(RF_predictions, Y_test)\n",
        "print(\"Accuracy through Random Forest classifier:\")\n",
        "print(accuracy)"
      ],
      "metadata": {
        "id": "gnoTkyGlMFYv"
      },
      "execution_count": null,
      "outputs": []
    },
    {
      "cell_type": "code",
      "source": [
        "import sklearn as sk\n",
        "from sklearn.linear_model import LogisticRegression\n",
        "LR = LogisticRegression()\n",
        "LR.fit(X_train,Y_train)\n",
        "LR_predictions = LR.predict(X_test)\n",
        "accuracy = accuracy_score(LR_predictions, Y_test)\n",
        "print(\"Accuracy through Logistic Regression:\")\n",
        "print(accuracy)"
      ],
      "metadata": {
        "colab": {
          "base_uri": "https://localhost:8080/"
        },
        "id": "2cJKUibGMHY3",
        "outputId": "45ae6735-9f3f-4603-884f-56823d5264fa"
      },
      "execution_count": null,
      "outputs": [
        {
          "output_type": "stream",
          "name": "stdout",
          "text": [
            "Accuracy through Logistic Regression:\n",
            "0.975609756097561\n"
          ]
        }
      ]
    },
    {
      "cell_type": "code",
      "source": [
        "import sklearn as sk\n",
        "from sklearn.neural_network import MLPClassifier\n",
        "\n",
        "NN = MLPClassifier(solver='lbfgs', alpha=1e-5, hidden_layer_sizes=(5, 2), random_state=1)\n",
        "NN.fit(X_train, Y_train)\n",
        "NN_predictions = NN.predict(X_test)\n",
        "accuracy = accuracy_score(NN_predictions, Y_test)\n",
        "print(\"Accuracy through Neural Networks classifier:\")\n",
        "print(accuracy)"
      ],
      "metadata": {
        "colab": {
          "base_uri": "https://localhost:8080/"
        },
        "id": "muGPcBLmMOPt",
        "outputId": "49d9c547-ae6d-473c-bd21-86267a5e6404"
      },
      "execution_count": null,
      "outputs": [
        {
          "output_type": "stream",
          "name": "stdout",
          "text": [
            "Accuracy through Neural Networks classifier:\n",
            "0.975609756097561\n"
          ]
        }
      ]
    },
    {
      "cell_type": "code",
      "source": [
        "from scipy import stats\n",
        "# Set your desired level of confidence and margin of error\n",
        "confidence_level = 0.95\n",
        "margin_of_error = 0.05\n",
        "# Calculate the sample size using the formula\n",
        "sample_size = np.ceil((stats.norm.ppf(1 - (1 - confidence_level)/2)**2 * 0.25 / (margin_of_error)**2))\n",
        "\n",
        "import pandas as pd\n",
        "import numpy as np\n",
        "from sklearn.cluster import KMeans\n",
        "\n",
        "\n",
        "# Perform k-means clustering with 5 clusters\n",
        "kmeans = KMeans(n_clusters=5, random_state=42).fit(data)\n",
        "\n",
        "# Assign cluster labels to each observation\n",
        "data['class'] = kmeans.labels_\n",
        "\n",
        "# Determine the number of observations in each cluster\n",
        "cluster_sizes = data.groupby('class').size()\n",
        "\n",
        "# Determine the sampling fraction for each cluster\n",
        "sampling_fractions = cluster_sizes / sum(cluster_sizes)\n",
        "\n",
        "# Perform cluster sampling\n",
        "sampled_data = pd.DataFrame()\n",
        "for cluster, fraction in sampling_fractions.iteritems():\n",
        "    cluster_data = data[data['class'] == cluster]\n",
        "    sampled_cluster_data = cluster_data.sample(frac=fraction, random_state=42)\n",
        "    sampled_data = pd.concat([sampled_data, sampled_cluster_data])\n",
        "\n",
        "# Save the sampled data to a CSV file\n",
        "sampled_data.to_csv('sample5.csv', index=False)\n",
        "sample5=pd.read_csv('sample5.csv')\n"
      ],
      "metadata": {
        "id": "vw8noT6R_Prm"
      },
      "execution_count": null,
      "outputs": []
    },
    {
      "cell_type": "code",
      "source": [
        "X = sample5.iloc[:,0:30]\n",
        "Y = sample5['Class']"
      ],
      "metadata": {
        "id": "gXYWAUOQMERw"
      },
      "execution_count": null,
      "outputs": []
    },
    {
      "cell_type": "code",
      "source": [
        "from sklearn.preprocessing import MinMaxScaler\n",
        "X_train, X_test, Y_train, Y_test = train_test_split(X, Y, test_size=0.4, stratify=Y, random_state=5)\n",
        "print(X.shape, X_train.shape, X_test.shape)\n",
        "scaler = MinMaxScaler()\n",
        "X_train = scaler.fit_transform(X_train)\n",
        "X_test = scaler.transform(X_test)"
      ],
      "metadata": {
        "colab": {
          "base_uri": "https://localhost:8080/"
        },
        "id": "aKKd0G_MM3ZR",
        "outputId": "fb71566a-173d-4301-9632-a6830f92eeaa"
      },
      "execution_count": null,
      "outputs": [
        {
          "output_type": "stream",
          "name": "stdout",
          "text": [
            "(458, 30) (274, 30) (184, 30)\n"
          ]
        }
      ]
    },
    {
      "cell_type": "code",
      "source": [
        "from sklearn.tree import DecisionTreeClassifier\n",
        "dtree_model = DecisionTreeClassifier(max_depth = 2).fit(X_train, Y_train)\n",
        "dtree_predictions = dtree_model.predict(X_test)\n",
        "accuracy = accuracy_score(dtree_predictions, Y_test)\n",
        "print(\"Accuracy through decision tree classifier:\")\n",
        "print(accuracy)"
      ],
      "metadata": {
        "colab": {
          "base_uri": "https://localhost:8080/"
        },
        "id": "KX3lxWonM4mo",
        "outputId": "3c6ed699-a391-4fa9-f5c2-6254098221c2"
      },
      "execution_count": null,
      "outputs": [
        {
          "output_type": "stream",
          "name": "stdout",
          "text": [
            "Accuracy through decision tree classifier:\n",
            "0.9619565217391305\n"
          ]
        }
      ]
    },
    {
      "cell_type": "code",
      "source": [
        "from sklearn import svm\n",
        "SVM = svm.LinearSVC()\n",
        "SVM.fit(X_train, Y_train)\n",
        "svm_predictions = SVM.predict(X_test)\n",
        "accuracy = accuracy_score(svm_predictions, Y_test)\n",
        "print(\"Accuracy through SVM classifier:\")\n",
        "print(accuracy)"
      ],
      "metadata": {
        "colab": {
          "base_uri": "https://localhost:8080/"
        },
        "id": "uSgSnAt9L8h0",
        "outputId": "5c255c99-0770-49df-a311-09e203a85411"
      },
      "execution_count": null,
      "outputs": [
        {
          "output_type": "stream",
          "name": "stdout",
          "text": [
            "Accuracy through SVM classifier:\n",
            "0.9239130434782609\n"
          ]
        }
      ]
    },
    {
      "cell_type": "code",
      "source": [
        "import sklearn as sk\n",
        "from sklearn.ensemble import RandomForestClassifier\n",
        "RF = RandomForestClassifier(n_estimators=100, max_depth=2, random_state=0)\n",
        "RF.fit(X_train, Y_train)\n",
        "RF_predictions = RF.predict(X_test)\n",
        "accuracy = accuracy_score(RF_predictions, Y_test)\n",
        "print(\"Accuracy through Random Forest classifier:\")\n",
        "print(accuracy)"
      ],
      "metadata": {
        "colab": {
          "base_uri": "https://localhost:8080/"
        },
        "id": "0gkNT-qAMdFx",
        "outputId": "3e53ffae-8fc4-497d-ac5c-b9e02ba4ccb0"
      },
      "execution_count": null,
      "outputs": [
        {
          "output_type": "stream",
          "name": "stdout",
          "text": [
            "Accuracy through Random Forest classifier:\n",
            "0.9728260869565217\n"
          ]
        }
      ]
    },
    {
      "cell_type": "code",
      "source": [
        "import sklearn as sk\n",
        "from sklearn.linear_model import LogisticRegression\n",
        "LR = LogisticRegression()\n",
        "LR.fit(X_train,Y_train)\n",
        "LR_predictions = LR.predict(X_test)\n",
        "accuracy = accuracy_score(LR_predictions, Y_test)\n",
        "print(\"Accuracy through Logistic Regression:\")\n",
        "print(accuracy)"
      ],
      "metadata": {
        "colab": {
          "base_uri": "https://localhost:8080/"
        },
        "id": "Cx4Fz8hhbU3V",
        "outputId": "259d4715-61b9-43e3-8f3c-09690b03ac41"
      },
      "execution_count": null,
      "outputs": [
        {
          "output_type": "stream",
          "name": "stdout",
          "text": [
            "Accuracy through Logistic Regression:\n",
            "0.7228260869565217\n"
          ]
        }
      ]
    },
    {
      "cell_type": "code",
      "source": [
        "import sklearn as sk\n",
        "from sklearn.neural_network import MLPClassifier\n",
        "\n",
        "NN = MLPClassifier(solver='lbfgs', alpha=1e-5, hidden_layer_sizes=(5, 2), random_state=1)\n",
        "NN.fit(X_train, Y_train)\n",
        "NN_predictions = NN.predict(X_test)\n",
        "accuracy = accuracy_score(NN_predictions, Y_test)\n",
        "print(\"Accuracy through Neural Networks classifier:\")\n",
        "print(accuracy)"
      ],
      "metadata": {
        "colab": {
          "base_uri": "https://localhost:8080/"
        },
        "id": "At4ZoZwMbZv4",
        "outputId": "baeb8f33-61d5-4a6f-a7b3-2ba017167178"
      },
      "execution_count": null,
      "outputs": [
        {
          "output_type": "stream",
          "name": "stdout",
          "text": [
            "Accuracy through Neural Networks classifier:\n",
            "0.9456521739130435\n"
          ]
        }
      ]
    }
  ]
}